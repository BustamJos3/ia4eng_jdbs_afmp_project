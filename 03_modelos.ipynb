{
  "nbformat": 4,
  "nbformat_minor": 0,
  "metadata": {
    "colab": {
      "provenance": [],
      "collapsed_sections": [],
      "authorship_tag": "ABX9TyP2Vh5sAIB6g4VAaPv8qzIC",
      "include_colab_link": true
    },
    "kernelspec": {
      "name": "python3",
      "display_name": "Python 3"
    },
    "language_info": {
      "name": "python"
    }
  },
  "cells": [
    {
      "cell_type": "markdown",
      "metadata": {
        "id": "view-in-github",
        "colab_type": "text"
      },
      "source": [
        "<a href=\"https://colab.research.google.com/github/BustamJos3/ia4eng_jdbs_afmp_project/blob/WorkOnModelsLearningPlots%2FBustamJos3/03_modelos.ipynb\" target=\"_parent\"><img src=\"https://colab.research.google.com/assets/colab-badge.svg\" alt=\"Open In Colab\"/></a>"
      ]
    },
    {
      "cell_type": "markdown",
      "source": [
        "# Contents\n",
        "* loading from 02-preprocesado.ipynb\n",
        "* partition train_test"
      ],
      "metadata": {
        "id": "an0u7dO66Y3-"
      }
    },
    {
      "cell_type": "markdown",
      "source": [
        "# Modules"
      ],
      "metadata": {
        "id": "gVinQhLh5Zv2"
      }
    },
    {
      "cell_type": "code",
      "execution_count": 1,
      "metadata": {
        "id": "akNDA8n74qYp"
      },
      "outputs": [],
      "source": [
        "#modules\n",
        "import numpy as np\n",
        "import pandas as pd\n",
        "import sklearn as sk\n",
        "from sklearn.model_selection import train_test_split"
      ]
    },
    {
      "cell_type": "markdown",
      "source": [
        "# Loading"
      ],
      "metadata": {
        "id": "3XPiV4p95evr"
      }
    },
    {
      "cell_type": "code",
      "source": [
        "#load dataset from github in .json\n",
        "df_prepro=pd.read_json(\"https://raw.githubusercontent.com/BustamJos3/ia4eng_jdbs_afmp_project/main/02preprocesado.json\",orient='index')\n",
        "df_prepro.head()"
      ],
      "metadata": {
        "colab": {
          "base_uri": "https://localhost:8080/",
          "height": 270
        },
        "id": "fmoBkHG35f8S",
        "outputId": "a00e397b-80b5-4e09-b5d9-7b38b7e82d3b"
      },
      "execution_count": 3,
      "outputs": [
        {
          "output_type": "execute_result",
          "data": {
            "text/plain": [
              "   Elevation  Aspect  Slope  Horizontal_Distance_To_Hydrology  \\\n",
              "0     2596.0    51.0    3.0                               258   \n",
              "1     2590.0    56.0    2.0                               212   \n",
              "2     2804.0   139.0    9.0                               268   \n",
              "3     2785.0   155.0   18.0                               242   \n",
              "4     2595.0    45.0    2.0                               153   \n",
              "\n",
              "   Vertical_Distance_To_Hydrology  Horizontal_Distance_To_Roadways  \\\n",
              "0                               0                              510   \n",
              "1                              -6                              390   \n",
              "2                              65                             3180   \n",
              "3                             118                             3090   \n",
              "4                              -1                              391   \n",
              "\n",
              "   Hillshade_9am  Hillshade_3pm  Horizontal_Distance_To_Fire_Points  \\\n",
              "0          221.0          148.0                                6279   \n",
              "1          220.0          151.0                                6225   \n",
              "2          234.0          135.0                                6121   \n",
              "3          238.0          122.0                                6211   \n",
              "4          220.0          150.0                                6172   \n",
              "\n",
              "   Wilderness_Area4  \n",
              "0                 0  \n",
              "1                 0  \n",
              "2                 0  \n",
              "3                 0  \n",
              "4                 0  "
            ],
            "text/html": [
              "\n",
              "  <div id=\"df-80e5fd4f-d9b3-4ad4-a4a5-5f16b70f805a\">\n",
              "    <div class=\"colab-df-container\">\n",
              "      <div>\n",
              "<style scoped>\n",
              "    .dataframe tbody tr th:only-of-type {\n",
              "        vertical-align: middle;\n",
              "    }\n",
              "\n",
              "    .dataframe tbody tr th {\n",
              "        vertical-align: top;\n",
              "    }\n",
              "\n",
              "    .dataframe thead th {\n",
              "        text-align: right;\n",
              "    }\n",
              "</style>\n",
              "<table border=\"1\" class=\"dataframe\">\n",
              "  <thead>\n",
              "    <tr style=\"text-align: right;\">\n",
              "      <th></th>\n",
              "      <th>Elevation</th>\n",
              "      <th>Aspect</th>\n",
              "      <th>Slope</th>\n",
              "      <th>Horizontal_Distance_To_Hydrology</th>\n",
              "      <th>Vertical_Distance_To_Hydrology</th>\n",
              "      <th>Horizontal_Distance_To_Roadways</th>\n",
              "      <th>Hillshade_9am</th>\n",
              "      <th>Hillshade_3pm</th>\n",
              "      <th>Horizontal_Distance_To_Fire_Points</th>\n",
              "      <th>Wilderness_Area4</th>\n",
              "    </tr>\n",
              "  </thead>\n",
              "  <tbody>\n",
              "    <tr>\n",
              "      <th>0</th>\n",
              "      <td>2596.0</td>\n",
              "      <td>51.0</td>\n",
              "      <td>3.0</td>\n",
              "      <td>258</td>\n",
              "      <td>0</td>\n",
              "      <td>510</td>\n",
              "      <td>221.0</td>\n",
              "      <td>148.0</td>\n",
              "      <td>6279</td>\n",
              "      <td>0</td>\n",
              "    </tr>\n",
              "    <tr>\n",
              "      <th>1</th>\n",
              "      <td>2590.0</td>\n",
              "      <td>56.0</td>\n",
              "      <td>2.0</td>\n",
              "      <td>212</td>\n",
              "      <td>-6</td>\n",
              "      <td>390</td>\n",
              "      <td>220.0</td>\n",
              "      <td>151.0</td>\n",
              "      <td>6225</td>\n",
              "      <td>0</td>\n",
              "    </tr>\n",
              "    <tr>\n",
              "      <th>2</th>\n",
              "      <td>2804.0</td>\n",
              "      <td>139.0</td>\n",
              "      <td>9.0</td>\n",
              "      <td>268</td>\n",
              "      <td>65</td>\n",
              "      <td>3180</td>\n",
              "      <td>234.0</td>\n",
              "      <td>135.0</td>\n",
              "      <td>6121</td>\n",
              "      <td>0</td>\n",
              "    </tr>\n",
              "    <tr>\n",
              "      <th>3</th>\n",
              "      <td>2785.0</td>\n",
              "      <td>155.0</td>\n",
              "      <td>18.0</td>\n",
              "      <td>242</td>\n",
              "      <td>118</td>\n",
              "      <td>3090</td>\n",
              "      <td>238.0</td>\n",
              "      <td>122.0</td>\n",
              "      <td>6211</td>\n",
              "      <td>0</td>\n",
              "    </tr>\n",
              "    <tr>\n",
              "      <th>4</th>\n",
              "      <td>2595.0</td>\n",
              "      <td>45.0</td>\n",
              "      <td>2.0</td>\n",
              "      <td>153</td>\n",
              "      <td>-1</td>\n",
              "      <td>391</td>\n",
              "      <td>220.0</td>\n",
              "      <td>150.0</td>\n",
              "      <td>6172</td>\n",
              "      <td>0</td>\n",
              "    </tr>\n",
              "  </tbody>\n",
              "</table>\n",
              "</div>\n",
              "      <button class=\"colab-df-convert\" onclick=\"convertToInteractive('df-80e5fd4f-d9b3-4ad4-a4a5-5f16b70f805a')\"\n",
              "              title=\"Convert this dataframe to an interactive table.\"\n",
              "              style=\"display:none;\">\n",
              "        \n",
              "  <svg xmlns=\"http://www.w3.org/2000/svg\" height=\"24px\"viewBox=\"0 0 24 24\"\n",
              "       width=\"24px\">\n",
              "    <path d=\"M0 0h24v24H0V0z\" fill=\"none\"/>\n",
              "    <path d=\"M18.56 5.44l.94 2.06.94-2.06 2.06-.94-2.06-.94-.94-2.06-.94 2.06-2.06.94zm-11 1L8.5 8.5l.94-2.06 2.06-.94-2.06-.94L8.5 2.5l-.94 2.06-2.06.94zm10 10l.94 2.06.94-2.06 2.06-.94-2.06-.94-.94-2.06-.94 2.06-2.06.94z\"/><path d=\"M17.41 7.96l-1.37-1.37c-.4-.4-.92-.59-1.43-.59-.52 0-1.04.2-1.43.59L10.3 9.45l-7.72 7.72c-.78.78-.78 2.05 0 2.83L4 21.41c.39.39.9.59 1.41.59.51 0 1.02-.2 1.41-.59l7.78-7.78 2.81-2.81c.8-.78.8-2.07 0-2.86zM5.41 20L4 18.59l7.72-7.72 1.47 1.35L5.41 20z\"/>\n",
              "  </svg>\n",
              "      </button>\n",
              "      \n",
              "  <style>\n",
              "    .colab-df-container {\n",
              "      display:flex;\n",
              "      flex-wrap:wrap;\n",
              "      gap: 12px;\n",
              "    }\n",
              "\n",
              "    .colab-df-convert {\n",
              "      background-color: #E8F0FE;\n",
              "      border: none;\n",
              "      border-radius: 50%;\n",
              "      cursor: pointer;\n",
              "      display: none;\n",
              "      fill: #1967D2;\n",
              "      height: 32px;\n",
              "      padding: 0 0 0 0;\n",
              "      width: 32px;\n",
              "    }\n",
              "\n",
              "    .colab-df-convert:hover {\n",
              "      background-color: #E2EBFA;\n",
              "      box-shadow: 0px 1px 2px rgba(60, 64, 67, 0.3), 0px 1px 3px 1px rgba(60, 64, 67, 0.15);\n",
              "      fill: #174EA6;\n",
              "    }\n",
              "\n",
              "    [theme=dark] .colab-df-convert {\n",
              "      background-color: #3B4455;\n",
              "      fill: #D2E3FC;\n",
              "    }\n",
              "\n",
              "    [theme=dark] .colab-df-convert:hover {\n",
              "      background-color: #434B5C;\n",
              "      box-shadow: 0px 1px 3px 1px rgba(0, 0, 0, 0.15);\n",
              "      filter: drop-shadow(0px 1px 2px rgba(0, 0, 0, 0.3));\n",
              "      fill: #FFFFFF;\n",
              "    }\n",
              "  </style>\n",
              "\n",
              "      <script>\n",
              "        const buttonEl =\n",
              "          document.querySelector('#df-80e5fd4f-d9b3-4ad4-a4a5-5f16b70f805a button.colab-df-convert');\n",
              "        buttonEl.style.display =\n",
              "          google.colab.kernel.accessAllowed ? 'block' : 'none';\n",
              "\n",
              "        async function convertToInteractive(key) {\n",
              "          const element = document.querySelector('#df-80e5fd4f-d9b3-4ad4-a4a5-5f16b70f805a');\n",
              "          const dataTable =\n",
              "            await google.colab.kernel.invokeFunction('convertToInteractive',\n",
              "                                                     [key], {});\n",
              "          if (!dataTable) return;\n",
              "\n",
              "          const docLinkHtml = 'Like what you see? Visit the ' +\n",
              "            '<a target=\"_blank\" href=https://colab.research.google.com/notebooks/data_table.ipynb>data table notebook</a>'\n",
              "            + ' to learn more about interactive tables.';\n",
              "          element.innerHTML = '';\n",
              "          dataTable['output_type'] = 'display_data';\n",
              "          await google.colab.output.renderOutput(dataTable, element);\n",
              "          const docLink = document.createElement('div');\n",
              "          docLink.innerHTML = docLinkHtml;\n",
              "          element.appendChild(docLink);\n",
              "        }\n",
              "      </script>\n",
              "    </div>\n",
              "  </div>\n",
              "  "
            ]
          },
          "metadata": {},
          "execution_count": 3
        }
      ]
    },
    {
      "cell_type": "code",
      "source": [
        "#load dataset from github in .json\n",
        "df_explor=pd.read_json(\"https://raw.githubusercontent.com/BustamJos3/ia4eng_jdbs_afmp_project/WorkOnModelsLearningPlots/BustamJos3/01exploracion.json\",orient='index')['Cover_Type']\n",
        "df_explor.head()"
      ],
      "metadata": {
        "colab": {
          "base_uri": "https://localhost:8080/"
        },
        "id": "-LgWdRPDOGlT",
        "outputId": "be89cc17-9db1-408f-d337-9e10df1bff72"
      },
      "execution_count": 4,
      "outputs": [
        {
          "output_type": "execute_result",
          "data": {
            "text/plain": [
              "0    5\n",
              "1    5\n",
              "2    2\n",
              "3    2\n",
              "4    5\n",
              "Name: Cover_Type, dtype: int64"
            ]
          },
          "metadata": {},
          "execution_count": 4
        }
      ]
    },
    {
      "cell_type": "markdown",
      "source": [
        "# TrainTest Splitting"
      ],
      "metadata": {
        "id": "kmBsI6O855tY"
      }
    },
    {
      "cell_type": "code",
      "source": [
        "# get x,y\n",
        "X,y=df_prepro, df_explor\n",
        "#TrainTestSplit 1/3 of data, shuffle data before splitting\n",
        "X_train, X_testValidation, y_train, y_testValidation = train_test_split(X, y, test_size=0.33, random_state=42, shuffle=True)"
      ],
      "metadata": {
        "id": "tvFDN7_H57Xq"
      },
      "execution_count": 5,
      "outputs": []
    },
    {
      "cell_type": "markdown",
      "source": [
        "# Hyperparameters\n"
      ],
      "metadata": {
        "id": "QAEwfSQKLCyy"
      }
    },
    {
      "cell_type": "code",
      "source": [
        "#hyperparameter selection method\n",
        "from sklearn.model_selection import GridSearchCV"
      ],
      "metadata": {
        "id": "ZrJx-2mSSz0V"
      },
      "execution_count": 119,
      "outputs": []
    },
    {
      "cell_type": "markdown",
      "source": [
        "## Supervised"
      ],
      "metadata": {
        "id": "6EHmwN-4S0qu"
      }
    },
    {
      "cell_type": "markdown",
      "source": [
        "### Random forest"
      ],
      "metadata": {
        "id": "eEBM69LtNsRv"
      }
    },
    {
      "cell_type": "code",
      "source": [
        "#import model\n",
        "from sklearn.ensemble import RandomForestClassifier\n",
        "#create model\n",
        "RForest=RandomForestClassifier()"
      ],
      "metadata": {
        "id": "hv442PJbLQ9n"
      },
      "execution_count": 120,
      "outputs": []
    },
    {
      "cell_type": "code",
      "source": [
        "#which are the parameters in this case?\n",
        "RForest.get_params()"
      ],
      "metadata": {
        "colab": {
          "base_uri": "https://localhost:8080/"
        },
        "id": "kYpwi3JMR9Qg",
        "outputId": "db739289-4ac8-446f-8991-d37420b6402f"
      },
      "execution_count": 121,
      "outputs": [
        {
          "output_type": "execute_result",
          "data": {
            "text/plain": [
              "{'bootstrap': True,\n",
              " 'ccp_alpha': 0.0,\n",
              " 'class_weight': None,\n",
              " 'criterion': 'gini',\n",
              " 'max_depth': None,\n",
              " 'max_features': 'auto',\n",
              " 'max_leaf_nodes': None,\n",
              " 'max_samples': None,\n",
              " 'min_impurity_decrease': 0.0,\n",
              " 'min_samples_leaf': 1,\n",
              " 'min_samples_split': 2,\n",
              " 'min_weight_fraction_leaf': 0.0,\n",
              " 'n_estimators': 100,\n",
              " 'n_jobs': None,\n",
              " 'oob_score': False,\n",
              " 'random_state': None,\n",
              " 'verbose': 0,\n",
              " 'warm_start': False}"
            ]
          },
          "metadata": {},
          "execution_count": 121
        }
      ]
    },
    {
      "cell_type": "markdown",
      "source": [
        "#### What are the chosen?\n",
        "For this model, 3 parameters will be chosen:\n",
        "* ```'n_estimators'```\n",
        "* ```'max_samples'```\n",
        "* ```'criterion'```"
      ],
      "metadata": {
        "id": "2WZ6lCILSGvS"
      }
    },
    {
      "cell_type": "code",
      "source": [
        "#dictionary with selected parameters to begin the hyperparemeter search\n",
        "parameters={'criterion':('gini','entropy'),\n",
        "            'n_estimators':(10,20,30),\n",
        "            'max_samples':(1/4,2/4,3/4)\n",
        "            }\n",
        "#create gridSearch variable\n",
        "gridCV_RF=GridSearchCV(RForest,parameters,scoring='accuracy')"
      ],
      "metadata": {
        "id": "PYEf8uqlSuuk"
      },
      "execution_count": 122,
      "outputs": []
    },
    {
      "cell_type": "code",
      "source": [
        "#fit the grid\n",
        "#fit works with numpy arrays, so .values on df's\n",
        "gridCV_RF.fit(X_train.values,y_train.values)"
      ],
      "metadata": {
        "colab": {
          "base_uri": "https://localhost:8080/"
        },
        "id": "qIVskuHEUM0_",
        "outputId": "609fea43-f35d-453a-f954-a19937e6f42d"
      },
      "execution_count": 124,
      "outputs": [
        {
          "output_type": "execute_result",
          "data": {
            "text/plain": [
              "GridSearchCV(estimator=RandomForestClassifier(),\n",
              "             param_grid={'criterion': ('gini', 'entropy'),\n",
              "                         'max_samples': (0.25, 0.5, 0.75),\n",
              "                         'n_estimators': (10, 20, 30)},\n",
              "             scoring='accuracy')"
            ]
          },
          "metadata": {},
          "execution_count": 124
        }
      ]
    },
    {
      "cell_type": "code",
      "source": [
        "#ranking of combinations\n",
        "print(gridCV_RF.cv_results_['rank_test_score'])\n",
        "#accuracy value of combinations\n",
        "print(gridCV_RF.cv_results_['mean_test_score'])"
      ],
      "metadata": {
        "colab": {
          "base_uri": "https://localhost:8080/"
        },
        "id": "2G9FfZAWUzJ2",
        "outputId": "f5b36836-7436-4234-ec66-8c095aac2a3a"
      },
      "execution_count": 125,
      "outputs": [
        {
          "output_type": "stream",
          "name": "stdout",
          "text": [
            "[18 16 11 15  8  5 13  6  2 17 12  9 14  7  3 10  4  1]\n",
            "[0.72793682 0.74679171 0.75932873 0.75241856 0.77502468 0.77877591\n",
            " 0.75607108 0.7786772  0.78548865 0.73435341 0.75636723 0.76762093\n",
            " 0.75587364 0.7751234  0.78311945 0.76446199 0.78252715 0.79506417]\n"
          ]
        }
      ]
    },
    {
      "cell_type": "code",
      "source": [
        "#best accuracy result\n",
        "print(gridCV_RF.best_score_)\n",
        "#best hyperparameter\n",
        "print(gridCV_RF.best_params_)"
      ],
      "metadata": {
        "colab": {
          "base_uri": "https://localhost:8080/"
        },
        "id": "nFa63nNjj5Ug",
        "outputId": "699f30f8-209f-4eac-f0fd-c7e49a904dd1"
      },
      "execution_count": 126,
      "outputs": [
        {
          "output_type": "stream",
          "name": "stdout",
          "text": [
            "0.7950641658440277\n",
            "{'criterion': 'entropy', 'max_samples': 0.75, 'n_estimators': 30}\n"
          ]
        }
      ]
    },
    {
      "cell_type": "markdown",
      "source": [
        "### K near neaighbors (KNN)"
      ],
      "metadata": {
        "id": "xaFOeFxkpiv3"
      }
    },
    {
      "cell_type": "code",
      "source": [
        "#import model\n",
        "from sklearn.neighbors import KNeighborsClassifier\n",
        "#because KNN is suceptible to the data scales\n",
        "from sklearn.preprocessing import MinMaxScaler\n",
        "#create model\n",
        "#amount of neighbors=sqrt of amount of data\n",
        "Knn=KNeighborsClassifier()"
      ],
      "metadata": {
        "id": "VwBzZ4bpp-s4"
      },
      "execution_count": 137,
      "outputs": []
    },
    {
      "cell_type": "code",
      "source": [
        "#what are the parameters?\n",
        "Knn.get_params()"
      ],
      "metadata": {
        "colab": {
          "base_uri": "https://localhost:8080/"
        },
        "id": "bAplG3NMuswq",
        "outputId": "ac0e7b14-36b7-4847-c24a-dd4f0261e0cd"
      },
      "execution_count": 138,
      "outputs": [
        {
          "output_type": "execute_result",
          "data": {
            "text/plain": [
              "{'algorithm': 'auto',\n",
              " 'leaf_size': 30,\n",
              " 'metric': 'minkowski',\n",
              " 'metric_params': None,\n",
              " 'n_jobs': None,\n",
              " 'n_neighbors': 5,\n",
              " 'p': 2,\n",
              " 'weights': 'uniform'}"
            ]
          },
          "metadata": {},
          "execution_count": 138
        }
      ]
    },
    {
      "cell_type": "markdown",
      "source": [
        "#### What are the chosen?\n",
        "For this model, 2 parameters will be chosen:\n",
        "* ```'algorithm'```\n",
        "* ```'n_neighbors'```"
      ],
      "metadata": {
        "id": "JJ092QM_vhZm"
      }
    },
    {
      "cell_type": "code",
      "source": [
        "# amount of neighbors\n",
        "neighbors=int(np.sqrt(len(X_train)))\n",
        "#dictionary with selected parameters to begin the hyperparemeter search\n",
        "parameters={'algorithm':('ball_tree','kd_tree','brute'),\n",
        "            'n_neighbors':(neighbors,neighbors-30,neighbors-40)\n",
        "            }\n",
        "#create gridSearch variable\n",
        "gridCV_knn=GridSearchCV(Knn,parameters,scoring='accuracy')"
      ],
      "metadata": {
        "id": "24hn2kW6wHrT"
      },
      "execution_count": 139,
      "outputs": []
    },
    {
      "cell_type": "code",
      "source": [
        "#fit the grid\n",
        "#fit works with numpy arrays, so .values on df's\n",
        "#apply scaler 'cause of suceptibility of model to data scales\n",
        "scaler=MinMaxScaler().fit(X_train.values)\n",
        "gridCV_knn.fit(scaler.transform(X_train.values),y_train.values)"
      ],
      "metadata": {
        "colab": {
          "base_uri": "https://localhost:8080/"
        },
        "id": "pnNf24JZtyuH",
        "outputId": "ac82ce38-daf4-4742-b324-5dee4052d916"
      },
      "execution_count": 140,
      "outputs": [
        {
          "output_type": "execute_result",
          "data": {
            "text/plain": [
              "GridSearchCV(estimator=KNeighborsClassifier(),\n",
              "             param_grid={'algorithm': ('ball_tree', 'kd_tree', 'brute'),\n",
              "                         'n_neighbors': (100, 70, 60)},\n",
              "             scoring='accuracy')"
            ]
          },
          "metadata": {},
          "execution_count": 140
        }
      ]
    },
    {
      "cell_type": "code",
      "source": [
        "#ranking of combinations\n",
        "print(gridCV_knn.cv_results_['rank_test_score'])\n",
        "#accuracy value of combinations\n",
        "print(gridCV_knn.cv_results_['mean_test_score'])"
      ],
      "metadata": {
        "colab": {
          "base_uri": "https://localhost:8080/"
        },
        "id": "hos9BzE-uI6X",
        "outputId": "2125ac75-7186-44b6-c2b7-d4e4f4e127c8"
      },
      "execution_count": 141,
      "outputs": [
        {
          "output_type": "stream",
          "name": "stdout",
          "text": [
            "[7 4 1 7 4 1 7 4 1]\n",
            "[0.62931885 0.64067127 0.64827246 0.62931885 0.64067127 0.64827246\n",
            " 0.62931885 0.64067127 0.64827246]\n"
          ]
        }
      ]
    },
    {
      "cell_type": "code",
      "source": [
        "#best accuracy result\n",
        "print(gridCV_knn.best_score_)\n",
        "#best hyperparameter\n",
        "print(gridCV_knn.best_params_)"
      ],
      "metadata": {
        "colab": {
          "base_uri": "https://localhost:8080/"
        },
        "id": "QVxO8fHQxKyP",
        "outputId": "8d734125-489f-447d-bbe9-6ba6089f5b1e"
      },
      "execution_count": 142,
      "outputs": [
        {
          "output_type": "stream",
          "name": "stdout",
          "text": [
            "0.6482724580454098\n",
            "{'algorithm': 'ball_tree', 'n_neighbors': 60}\n"
          ]
        }
      ]
    },
    {
      "cell_type": "markdown",
      "source": [
        "## Unsupervised models"
      ],
      "metadata": {
        "id": "5OISpGGvLJZp"
      }
    },
    {
      "cell_type": "markdown",
      "source": [
        "### K-means"
      ],
      "metadata": {
        "id": "u5P2Wyy31MFm"
      }
    },
    {
      "cell_type": "code",
      "source": [
        "from sklearn.cluster import KMeans\n",
        "kMeans=KMeans(n_clusters=7)"
      ],
      "metadata": {
        "id": "jsON_djmLSOZ"
      },
      "execution_count": 147,
      "outputs": []
    },
    {
      "cell_type": "code",
      "source": [
        "kMeans.get_params()"
      ],
      "metadata": {
        "colab": {
          "base_uri": "https://localhost:8080/"
        },
        "id": "_frtAKGg9BP4",
        "outputId": "bf56fcb3-a043-4026-bfd6-514c7ee93cde"
      },
      "execution_count": 148,
      "outputs": [
        {
          "output_type": "execute_result",
          "data": {
            "text/plain": [
              "{'algorithm': 'auto',\n",
              " 'copy_x': True,\n",
              " 'init': 'k-means++',\n",
              " 'max_iter': 300,\n",
              " 'n_clusters': 7,\n",
              " 'n_init': 10,\n",
              " 'random_state': None,\n",
              " 'tol': 0.0001,\n",
              " 'verbose': 0}"
            ]
          },
          "metadata": {},
          "execution_count": 148
        }
      ]
    },
    {
      "cell_type": "markdown",
      "source": [
        "#### What are the chosen?\n",
        "For this model, 3 parameters will be chosen:\n",
        "* ```'init'```\n",
        "* ```'tol'```"
      ],
      "metadata": {
        "id": "igLpzBhSBaxd"
      }
    },
    {
      "cell_type": "code",
      "source": [
        "#dictionary with selected parameters to begin the hyperparemeter search\n",
        "parameters={'init':('k-means++', 'random'),\n",
        "            'tol': [0.001,0.0001],\n",
        "            }\n",
        "#create gridSearch variable\n",
        "gridCV_KMeans=GridSearchCV(kMeans,parameters)"
      ],
      "metadata": {
        "id": "BddSpYoBAd1Z"
      },
      "execution_count": 149,
      "outputs": []
    },
    {
      "cell_type": "code",
      "source": [
        "#fitting\n",
        "gridCV_KMeans.fit(X_train.values)"
      ],
      "metadata": {
        "colab": {
          "base_uri": "https://localhost:8080/"
        },
        "id": "VpbWGrhq9Lg4",
        "outputId": "1099bdfc-9810-4250-9650-364d64a22b58"
      },
      "execution_count": 150,
      "outputs": [
        {
          "output_type": "execute_result",
          "data": {
            "text/plain": [
              "GridSearchCV(estimator=KMeans(n_clusters=7),\n",
              "             param_grid={'init': ('k-means++', 'random'),\n",
              "                         'tol': [0.001, 0.0001]})"
            ]
          },
          "metadata": {},
          "execution_count": 150
        }
      ]
    },
    {
      "cell_type": "code",
      "source": [
        "#ranking of combinations\n",
        "print(gridCV_KMeans.cv_results_['rank_test_score'])"
      ],
      "metadata": {
        "colab": {
          "base_uri": "https://localhost:8080/"
        },
        "id": "-I6p4mT2AXwq",
        "outputId": "95615563-f395-4313-b2ea-db43e28c4ad8"
      },
      "execution_count": 151,
      "outputs": [
        {
          "output_type": "stream",
          "name": "stdout",
          "text": [
            "[1 3 2 4]\n"
          ]
        }
      ]
    },
    {
      "cell_type": "code",
      "source": [
        "#best hyperparameter\n",
        "print(gridCV_KMeans.best_params_)"
      ],
      "metadata": {
        "colab": {
          "base_uri": "https://localhost:8080/"
        },
        "id": "voahyno2KuPS",
        "outputId": "4a271f32-04cc-47ca-e88f-a5be5cdc6f0b"
      },
      "execution_count": 152,
      "outputs": [
        {
          "output_type": "stream",
          "name": "stdout",
          "text": [
            "{'init': 'k-means++', 'tol': 0.001}\n"
          ]
        }
      ]
    },
    {
      "cell_type": "code",
      "source": [
        "#lets check its properties\n",
        "bestKmeans=KMeans(n_clusters=7,init='k-means++',tol=0.001)"
      ],
      "metadata": {
        "id": "qFLbb_kuNRBU"
      },
      "execution_count": 154,
      "outputs": []
    },
    {
      "cell_type": "code",
      "source": [
        "# fitting\n",
        "bestKmeans.fit(X_train.values)"
      ],
      "metadata": {
        "colab": {
          "base_uri": "https://localhost:8080/"
        },
        "id": "pWiSFht7N4JA",
        "outputId": "18e88721-6200-4703-8fc1-46cc8fdf585c"
      },
      "execution_count": 155,
      "outputs": [
        {
          "output_type": "execute_result",
          "data": {
            "text/plain": [
              "KMeans(n_clusters=7, tol=0.001)"
            ]
          },
          "metadata": {},
          "execution_count": 155
        }
      ]
    },
    {
      "cell_type": "code",
      "source": [
        "#syntethic accuracy train\n",
        "len((bestKmeans.labels_+1==y_train)[(bestKmeans.labels_+1==y_train)==True])/len(X_train)"
      ],
      "metadata": {
        "colab": {
          "base_uri": "https://localhost:8080/"
        },
        "id": "4eXdChNHUIVn",
        "outputId": "2be6cbc8-14dd-4ef5-8dcc-6d29d3ac0bbf"
      },
      "execution_count": 156,
      "outputs": [
        {
          "output_type": "execute_result",
          "data": {
            "text/plain": [
              "0.23297137216189537"
            ]
          },
          "metadata": {},
          "execution_count": 156
        }
      ]
    },
    {
      "cell_type": "code",
      "source": [
        "#syntethic accuracy test\n",
        "len((bestKmeans.predict(X_testValidation.values)+1==y_testValidation.values)[(bestKmeans.predict(X_testValidation.values)+1==y_testValidation.values)==True])/len(X_testValidation.values)"
      ],
      "metadata": {
        "colab": {
          "base_uri": "https://localhost:8080/"
        },
        "id": "pWrCW-gRUOus",
        "outputId": "e324a70a-17a9-4a19-a66c-943c2368a71d"
      },
      "execution_count": 157,
      "outputs": [
        {
          "output_type": "execute_result",
          "data": {
            "text/plain": [
              "0.22444889779559118"
            ]
          },
          "metadata": {},
          "execution_count": 157
        }
      ]
    },
    {
      "cell_type": "markdown",
      "source": [
        "### MiniBatchKMeans"
      ],
      "metadata": {
        "id": "a3o9HhM-tGlf"
      }
    },
    {
      "cell_type": "code",
      "source": [
        "from sklearn.cluster import MiniBatchKMeans"
      ],
      "metadata": {
        "id": "uuW5UXXz2X-W"
      },
      "execution_count": 65,
      "outputs": []
    },
    {
      "cell_type": "code",
      "source": [
        "miniKMeansCluster=MiniBatchKMeans(n_clusters=7)"
      ],
      "metadata": {
        "id": "paWZ-ZLe2fXf"
      },
      "execution_count": 66,
      "outputs": []
    },
    {
      "cell_type": "code",
      "source": [
        "miniKMeansCluster.get_params()"
      ],
      "metadata": {
        "colab": {
          "base_uri": "https://localhost:8080/"
        },
        "id": "aFW6sQvU3Uwn",
        "outputId": "538df784-d071-46c3-8c4d-712f73fc041f"
      },
      "execution_count": 67,
      "outputs": [
        {
          "output_type": "execute_result",
          "data": {
            "text/plain": [
              "{'batch_size': 1024,\n",
              " 'compute_labels': True,\n",
              " 'init': 'k-means++',\n",
              " 'init_size': None,\n",
              " 'max_iter': 100,\n",
              " 'max_no_improvement': 10,\n",
              " 'n_clusters': 7,\n",
              " 'n_init': 3,\n",
              " 'random_state': None,\n",
              " 'reassignment_ratio': 0.01,\n",
              " 'tol': 0.0,\n",
              " 'verbose': 0}"
            ]
          },
          "metadata": {},
          "execution_count": 67
        }
      ]
    },
    {
      "cell_type": "markdown",
      "source": [
        "#### What are the chosen?\n",
        "For this model, 3 parameters will be chosen:\n",
        "* ```'affinity'```\n",
        "* ```'linkage'```"
      ],
      "metadata": {
        "id": "uFmYO_Qd3MY-"
      }
    },
    {
      "cell_type": "code",
      "source": [
        "#dictionary with selected parameters to begin the hyperparemeter search\n",
        "parameters={'init':('k-means++', 'random'),\n",
        "            'tol': [0.001,0.0001],\n",
        "            }\n",
        "gridCV_miniKC=GridSearchCV(miniKMeansCluster,parameters)"
      ],
      "metadata": {
        "id": "TlPqvv2N2pjZ"
      },
      "execution_count": 69,
      "outputs": []
    },
    {
      "cell_type": "code",
      "source": [
        "#fitting\n",
        "gridCV_miniKC.fit(X_train.values)"
      ],
      "metadata": {
        "colab": {
          "base_uri": "https://localhost:8080/"
        },
        "id": "PbAiFvGL5D1s",
        "outputId": "b02fd4ee-db8c-4b59-97e7-c742447fd4dc"
      },
      "execution_count": 102,
      "outputs": [
        {
          "output_type": "execute_result",
          "data": {
            "text/plain": [
              "GridSearchCV(estimator=MiniBatchKMeans(n_clusters=7),\n",
              "             param_grid={'init': ('k-means++', 'random'),\n",
              "                         'tol': [0.001, 0.0001]})"
            ]
          },
          "metadata": {},
          "execution_count": 102
        }
      ]
    },
    {
      "cell_type": "code",
      "source": [
        "#ranking of combinations\n",
        "print(gridCV_miniKC.cv_results_['rank_test_score'])"
      ],
      "metadata": {
        "colab": {
          "base_uri": "https://localhost:8080/"
        },
        "id": "mKWlr_kD5asU",
        "outputId": "154b1723-fd43-4b56-d0fa-bfb2b0d56228"
      },
      "execution_count": 103,
      "outputs": [
        {
          "output_type": "stream",
          "name": "stdout",
          "text": [
            "[2 1 4 3]\n"
          ]
        }
      ]
    },
    {
      "cell_type": "code",
      "source": [
        "#best hyperparameter\n",
        "print(gridCV_miniKC.best_params_)"
      ],
      "metadata": {
        "colab": {
          "base_uri": "https://localhost:8080/"
        },
        "id": "zCyENu358gaV",
        "outputId": "199b3abf-11b3-493b-be7a-035da289b3e9"
      },
      "execution_count": 104,
      "outputs": [
        {
          "output_type": "stream",
          "name": "stdout",
          "text": [
            "{'init': 'k-means++', 'tol': 0.0001}\n"
          ]
        }
      ]
    },
    {
      "cell_type": "code",
      "source": [
        "#lets check its properties\n",
        "bestminiKmeans=MiniBatchKMeans(n_clusters=7,init='k-means++',tol=0.0001)"
      ],
      "metadata": {
        "id": "v6cwz2St8mDL"
      },
      "execution_count": 105,
      "outputs": []
    },
    {
      "cell_type": "code",
      "source": [
        "# fitting\n",
        "bestminiKmeans.fit(X_train.values)"
      ],
      "metadata": {
        "colab": {
          "base_uri": "https://localhost:8080/"
        },
        "id": "ovchLf4h-a2A",
        "outputId": "1f29b116-902e-44d1-fd0b-ac27ac1800c8"
      },
      "execution_count": 115,
      "outputs": [
        {
          "output_type": "execute_result",
          "data": {
            "text/plain": [
              "MiniBatchKMeans(n_clusters=7, tol=0.0001)"
            ]
          },
          "metadata": {},
          "execution_count": 115
        }
      ]
    },
    {
      "cell_type": "code",
      "source": [
        "#syntethic accuracy train\n",
        "len((bestminiKmeans.labels_+1==y_train)[(bestminiKmeans.labels_+1==y_train)==True])/len(X_train)"
      ],
      "metadata": {
        "colab": {
          "base_uri": "https://localhost:8080/"
        },
        "id": "MMjN3ETq-fw5",
        "outputId": "9aa24b59-cdfb-4848-da68-677955eb0ce3"
      },
      "execution_count": 116,
      "outputs": [
        {
          "output_type": "execute_result",
          "data": {
            "text/plain": [
              "0.18084896347482723"
            ]
          },
          "metadata": {},
          "execution_count": 116
        }
      ]
    },
    {
      "cell_type": "code",
      "source": [
        "#syntethic accuracy test\n",
        "len((bestminiKmeans.predict(X_testValidation.values)+1==y_testValidation.values)[(bestminiKmeans.predict(X_testValidation.values)+1==y_testValidation.values)==True])/len(X_testValidation.values)"
      ],
      "metadata": {
        "colab": {
          "base_uri": "https://localhost:8080/"
        },
        "id": "2-x_At-M_FKU",
        "outputId": "e7a89e27-37e7-4400-b0ce-922acef6ef4f"
      },
      "execution_count": 117,
      "outputs": [
        {
          "output_type": "execute_result",
          "data": {
            "text/plain": [
              "0.18056112224448898"
            ]
          },
          "metadata": {},
          "execution_count": 117
        }
      ]
    },
    {
      "cell_type": "markdown",
      "source": [
        "# Learning curves"
      ],
      "metadata": {
        "id": "CuMnNq-oCosL"
      }
    },
    {
      "cell_type": "code",
      "source": [
        "#to plotting\n",
        "import matplotlib.pyplot as plt\n",
        "#import function to generate learning curve data\n",
        "from sklearn.model_selection import learning_curve\n",
        "\n",
        "from sklearn.model_selection import ShuffleSplit"
      ],
      "metadata": {
        "id": "iQDXWNRaCqYm"
      },
      "execution_count": 133,
      "outputs": []
    },
    {
      "cell_type": "code",
      "source": [
        "def plot_learning_curve(\n",
        "    estimator,\n",
        "    title,\n",
        "    X,\n",
        "    y,\n",
        "    axes=None,\n",
        "    ylim=None,\n",
        "    cv=None,\n",
        "    n_jobs=None,\n",
        "    scoring=None,\n",
        "    train_sizes=np.linspace(0.1, 1.0, 5),\n",
        "):\n",
        "    \"\"\"\n",
        "    Generate 3 plots: the test and training learning curve, the training\n",
        "    samples vs fit times curve, the fit times vs score curve.\n",
        "\n",
        "    Parameters\n",
        "    ----------\n",
        "    estimator : estimator instance\n",
        "        An estimator instance implementing `fit` and `predict` methods which\n",
        "        will be cloned for each validation.\n",
        "\n",
        "    title : str\n",
        "        Title for the chart.\n",
        "\n",
        "    X : array-like of shape (n_samples, n_features)\n",
        "        Training vector, where ``n_samples`` is the number of samples and\n",
        "        ``n_features`` is the number of features.\n",
        "\n",
        "    y : array-like of shape (n_samples) or (n_samples, n_features)\n",
        "        Target relative to ``X`` for classification or regression;\n",
        "        None for unsupervised learning.\n",
        "\n",
        "    axes : array-like of shape (3,), default=None\n",
        "        Axes to use for plotting the curves.\n",
        "\n",
        "    ylim : tuple of shape (2,), default=None\n",
        "        Defines minimum and maximum y-values plotted, e.g. (ymin, ymax).\n",
        "\n",
        "    cv : int, cross-validation generator or an iterable, default=None\n",
        "        Determines the cross-validation splitting strategy.\n",
        "        Possible inputs for cv are:\n",
        "\n",
        "          - None, to use the default 5-fold cross-validation,\n",
        "          - integer, to specify the number of folds.\n",
        "          - :term:`CV splitter`,\n",
        "          - An iterable yielding (train, test) splits as arrays of indices.\n",
        "\n",
        "        For integer/None inputs, if ``y`` is binary or multiclass,\n",
        "        :class:`StratifiedKFold` used. If the estimator is not a classifier\n",
        "        or if ``y`` is neither binary nor multiclass, :class:`KFold` is used.\n",
        "\n",
        "        Refer :ref:`User Guide <cross_validation>` for the various\n",
        "        cross-validators that can be used here.\n",
        "\n",
        "    n_jobs : int or None, default=None\n",
        "        Number of jobs to run in parallel.\n",
        "        ``None`` means 1 unless in a :obj:`joblib.parallel_backend` context.\n",
        "        ``-1`` means using all processors. See :term:`Glossary <n_jobs>`\n",
        "        for more details.\n",
        "\n",
        "    scoring : str or callable, default=None\n",
        "        A str (see model evaluation documentation) or\n",
        "        a scorer callable object / function with signature\n",
        "        ``scorer(estimator, X, y)``.\n",
        "\n",
        "    train_sizes : array-like of shape (n_ticks,)\n",
        "        Relative or absolute numbers of training examples that will be used to\n",
        "        generate the learning curve. If the ``dtype`` is float, it is regarded\n",
        "        as a fraction of the maximum size of the training set (that is\n",
        "        determined by the selected validation method), i.e. it has to be within\n",
        "        (0, 1]. Otherwise it is interpreted as absolute sizes of the training\n",
        "        sets. Note that for classification the number of samples usually have\n",
        "        to be big enough to contain at least one sample from each class.\n",
        "        (default: np.linspace(0.1, 1.0, 5))\n",
        "    \"\"\"\n",
        "    if axes is None:\n",
        "        _, axes = plt.subplots(1, 3, figsize=(20, 5))\n",
        "\n",
        "    axes[0].set_title(title)\n",
        "    if ylim is not None:\n",
        "        axes[0].set_ylim(*ylim)\n",
        "    axes[0].set_xlabel(\"Training examples\")\n",
        "    axes[0].set_ylabel(\"Score\")\n",
        "\n",
        "    train_sizes, train_scores, test_scores, fit_times, _ = learning_curve(\n",
        "        estimator,\n",
        "        X,\n",
        "        y,\n",
        "        scoring=scoring,\n",
        "        cv=cv,\n",
        "        n_jobs=n_jobs,\n",
        "        train_sizes=train_sizes,\n",
        "        return_times=True,\n",
        "    )\n",
        "    train_scores_mean = np.mean(train_scores, axis=1)\n",
        "    train_scores_std = np.std(train_scores, axis=1)\n",
        "    test_scores_mean = np.mean(test_scores, axis=1)\n",
        "    test_scores_std = np.std(test_scores, axis=1)\n",
        "    fit_times_mean = np.mean(fit_times, axis=1)\n",
        "    fit_times_std = np.std(fit_times, axis=1)\n",
        "\n",
        "    # Plot learning curve\n",
        "    axes[0].grid()\n",
        "    axes[0].fill_between(\n",
        "        train_sizes,\n",
        "        train_scores_mean - train_scores_std,\n",
        "        train_scores_mean + train_scores_std,\n",
        "        alpha=0.1,\n",
        "        color=\"r\",\n",
        "    )\n",
        "    axes[0].fill_between(\n",
        "        train_sizes,\n",
        "        test_scores_mean - test_scores_std,\n",
        "        test_scores_mean + test_scores_std,\n",
        "        alpha=0.1,\n",
        "        color=\"g\",\n",
        "    )\n",
        "    axes[0].plot(\n",
        "        train_sizes, train_scores_mean, \"o-\", color=\"r\", label=\"Training score\"\n",
        "    )\n",
        "    axes[0].plot(\n",
        "        train_sizes, test_scores_mean, \"o-\", color=\"g\", label=\"Cross-validation score\"\n",
        "    )\n",
        "    axes[0].legend(loc=\"best\")\n",
        "\n",
        "    # Plot n_samples vs fit_times\n",
        "    axes[1].grid()\n",
        "    axes[1].plot(train_sizes, fit_times_mean, \"o-\")\n",
        "    axes[1].fill_between(\n",
        "        train_sizes,\n",
        "        fit_times_mean - fit_times_std,\n",
        "        fit_times_mean + fit_times_std,\n",
        "        alpha=0.1,\n",
        "    )\n",
        "    axes[1].set_xlabel(\"Training examples\")\n",
        "    axes[1].set_ylabel(\"fit_times\")\n",
        "    axes[1].set_title(\"Scalability of the model\")\n",
        "\n",
        "    # Plot fit_time vs score\n",
        "    fit_time_argsort = fit_times_mean.argsort()\n",
        "    fit_time_sorted = fit_times_mean[fit_time_argsort]\n",
        "    test_scores_mean_sorted = test_scores_mean[fit_time_argsort]\n",
        "    test_scores_std_sorted = test_scores_std[fit_time_argsort]\n",
        "    axes[2].grid()\n",
        "    axes[2].plot(fit_time_sorted, test_scores_mean_sorted, \"o-\")\n",
        "    axes[2].fill_between(\n",
        "        fit_time_sorted,\n",
        "        test_scores_mean_sorted - test_scores_std_sorted,\n",
        "        test_scores_mean_sorted + test_scores_std_sorted,\n",
        "        alpha=0.1,\n",
        "    )\n",
        "    axes[2].set_xlabel(\"fit_times\")\n",
        "    axes[2].set_ylabel(\"Score\")\n",
        "    axes[2].set_title(\"Performance of the model\")\n",
        "\n",
        "    return plt"
      ],
      "metadata": {
        "id": "UMJp7Z0OIQ3Z"
      },
      "execution_count": 131,
      "outputs": []
    },
    {
      "cell_type": "markdown",
      "source": [
        "## Supervised"
      ],
      "metadata": {
        "id": "es7QcuIUFxZB"
      }
    },
    {
      "cell_type": "markdown",
      "source": [
        "### Random forest and KNN"
      ],
      "metadata": {
        "id": "6AtwNrppF0nT"
      }
    },
    {
      "cell_type": "code",
      "source": [
        "fig, axes = plt.subplots(3, 2, figsize=(10, 15))\n",
        "title = \"Learning Curves RandomForest\"\n",
        "cv = ShuffleSplit(n_splits=50, test_size=0.2, random_state=0)\n",
        "estimator = gridCV_RF.best_estimator_\n",
        "\n",
        "plot_learning_curve(\n",
        "    estimator,\n",
        "    title,\n",
        "    df_prepro.values,\n",
        "    df_explor.values,\n",
        "    axes=axes[:, 0],\n",
        "    ylim=None,\n",
        "    cv=cv,\n",
        "    n_jobs=4,\n",
        "    scoring=\"accuracy\",\n",
        ")\n",
        "\n",
        "title = \"Learning Curves KNN\"\n",
        "# SVC is more expensive so we do a lower number of CV iterations:\n",
        "cv = ShuffleSplit(n_splits=50, test_size=0.2, random_state=0)\n",
        "estimator = gridCV_knn.best_estimator_\n",
        "plot_learning_curve(\n",
        "    estimator, \n",
        "    title, \n",
        "    df_prepro.values, \n",
        "    df_explor.values, \n",
        "    axes=axes[:, 1], \n",
        "    ylim=None, \n",
        "    cv=cv, \n",
        "    n_jobs=4, \n",
        "    scoring=\"accuracy\",\n",
        ")\n",
        "\n",
        "plt.show()"
      ],
      "metadata": {
        "colab": {
          "base_uri": "https://localhost:8080/",
          "height": 894
        },
        "id": "dmEOe5MqHztB",
        "outputId": "b5965091-5f5a-47a8-cde3-14aff4a6ad12"
      },
      "execution_count": 160,
      "outputs": [
        {
          "output_type": "display_data",
          "data": {
            "text/plain": [
              "<Figure size 720x1080 with 6 Axes>"
            ],
            "image/png": "[encoded data removed]"
          },
          "metadata": {
            "needs_background": "light"
          }
        }
      ]
    },
    {
      "cell_type": "markdown",
      "source": [
        "# Unsupervised"
      ],
      "metadata": {
        "id": "HheCLHwONawR"
      }
    },
    {
      "cell_type": "markdown",
      "source": [
        "## K-means and MiniBatchKMeans"
      ],
      "metadata": {
        "id": "Ko-8GaEhNcyS"
      }
    },
    {
      "cell_type": "code",
      "source": [
        "fig, axes = plt.subplots(3, 2, figsize=(10, 15))\n",
        "title = \"Learning Curves K-means\"\n",
        "cv = ShuffleSplit(n_splits=50, test_size=0.2, random_state=0)\n",
        "estimator = gridCV_KMeans.best_estimator_\n",
        "\n",
        "plot_learning_curve(\n",
        "    estimator,\n",
        "    title,\n",
        "    df_prepro.values,\n",
        "    y=None,\n",
        "    axes=axes[:, 0],\n",
        "    ylim=(0, 1.01),\n",
        "    cv=cv,\n",
        "    n_jobs=4,\n",
        "    scoring=None,\n",
        ")\n",
        "\n",
        "title = \"Learning Curves miniBatchKMeans\"\n",
        "# SVC is more expensive so we do a lower number of CV iterations:\n",
        "cv = ShuffleSplit(n_splits=50, test_size=0.2, random_state=0)\n",
        "estimator = gridCV_miniKC.best_estimator_\n",
        "plot_learning_curve(\n",
        "    estimator, \n",
        "    title, \n",
        "    df_prepro.values, \n",
        "    y=None, \n",
        "    axes=axes[:, 1], \n",
        "    ylim=(0, 1.01), \n",
        "    cv=cv, \n",
        "    n_jobs=4, \n",
        "    scoring=None,\n",
        ")\n",
        "\n",
        "plt.show()"
      ],
      "metadata": {
        "colab": {
          "base_uri": "https://localhost:8080/",
          "height": 894
        },
        "id": "Xy2Wy78uJDTm",
        "outputId": "f0e7860b-79bb-4836-e699-713dcdf14d99"
      },
      "execution_count": 162,
      "outputs": [
        {
          "output_type": "display_data",
          "data": {
            "text/plain": [
              "<Figure size 720x1080 with 6 Axes>"
            ],
            "image/png": "[encoded data removed]"
          },
          "metadata": {
            "needs_background": "light"
          }
        }
      ]
    }
  ]
}