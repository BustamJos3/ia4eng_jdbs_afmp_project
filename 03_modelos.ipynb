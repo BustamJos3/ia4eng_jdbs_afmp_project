{
  "nbformat": 4,
  "nbformat_minor": 0,
  "metadata": {
    "colab": {
      "provenance": [],
      "collapsed_sections": [],
      "authorship_tag": "ABX9TyO1YoqfyHywjY3ivjuZ5SPN",
      "include_colab_link": true
    },
    "kernelspec": {
      "name": "python3",
      "display_name": "Python 3"
    },
    "language_info": {
      "name": "python"
    }
  },
  "cells": [
    {
      "cell_type": "markdown",
      "metadata": {
        "id": "view-in-github",
        "colab_type": "text"
      },
      "source": [
        "<a href=\"https://colab.research.google.com/github/BustamJos3/ia4eng_jdbs_afmp_project/blob/WorkOnModelsLearningPlots%2FBustamJos3/03_modelos.ipynb\" target=\"_parent\"><img src=\"https://colab.research.google.com/assets/colab-badge.svg\" alt=\"Open In Colab\"/></a>"
      ]
    },
    {
      "cell_type": "markdown",
      "source": [
        "# Contents\n",
        "* loading from 02-preprocesado.ipynb\n",
        "* partition train_test"
      ],
      "metadata": {
        "id": "an0u7dO66Y3-"
      }
    },
    {
      "cell_type": "markdown",
      "source": [
        "# Modules"
      ],
      "metadata": {
        "id": "gVinQhLh5Zv2"
      }
    },
    {
      "cell_type": "code",
      "execution_count": 1,
      "metadata": {
        "id": "akNDA8n74qYp"
      },
      "outputs": [],
      "source": [
        "#modules\n",
        "import numpy as np\n",
        "import pandas as pd\n",
        "import matplotlib.pyplot as plt\n",
        "%matplotlib inline\n",
        "from zipfile import ZipFile\n",
        "import seaborn as sns\n",
        "import sklearn as sk\n",
        "from sklearn.model_selection import train_test_split\n",
        "from scipy import stats"
      ]
    },
    {
      "cell_type": "markdown",
      "source": [
        "# Loading"
      ],
      "metadata": {
        "id": "3XPiV4p95evr"
      }
    },
    {
      "cell_type": "code",
      "source": [
        "#load dataset from github in .json\n",
        "df_prepro=pd.read_json(\"https://raw.githubusercontent.com/BustamJos3/ia4eng_jdbs_afmp_project/main/02preprocesado.json\",orient='index')\n",
        "df_prepro.head()"
      ],
      "metadata": {
        "colab": {
          "base_uri": "https://localhost:8080/",
          "height": 270
        },
        "id": "fmoBkHG35f8S",
        "outputId": "101ae2b7-c155-4ac0-ab9c-7722ee17a8b1"
      },
      "execution_count": 2,
      "outputs": [
        {
          "output_type": "execute_result",
          "data": {
            "text/plain": [
              "   Elevation  Aspect  Slope  Horizontal_Distance_To_Hydrology  \\\n",
              "0     2596.0    51.0    3.0                               258   \n",
              "1     2590.0    56.0    2.0                               212   \n",
              "2     2804.0   139.0    9.0                               268   \n",
              "3     2785.0   155.0   18.0                               242   \n",
              "4     2595.0    45.0    2.0                               153   \n",
              "\n",
              "   Vertical_Distance_To_Hydrology  Horizontal_Distance_To_Roadways  \\\n",
              "0                               0                              510   \n",
              "1                              -6                              390   \n",
              "2                              65                             3180   \n",
              "3                             118                             3090   \n",
              "4                              -1                              391   \n",
              "\n",
              "   Hillshade_9am  Hillshade_3pm  Horizontal_Distance_To_Fire_Points  \\\n",
              "0          221.0          148.0                                6279   \n",
              "1          220.0          151.0                                6225   \n",
              "2          234.0          135.0                                6121   \n",
              "3          238.0          122.0                                6211   \n",
              "4          220.0          150.0                                6172   \n",
              "\n",
              "   Wilderness_Area4  \n",
              "0                 0  \n",
              "1                 0  \n",
              "2                 0  \n",
              "3                 0  \n",
              "4                 0  "
            ],
            "text/html": [
              "\n",
              "  <div id=\"df-08c91825-7a97-44ab-945e-1b7f4fe823d1\">\n",
              "    <div class=\"colab-df-container\">\n",
              "      <div>\n",
              "<style scoped>\n",
              "    .dataframe tbody tr th:only-of-type {\n",
              "        vertical-align: middle;\n",
              "    }\n",
              "\n",
              "    .dataframe tbody tr th {\n",
              "        vertical-align: top;\n",
              "    }\n",
              "\n",
              "    .dataframe thead th {\n",
              "        text-align: right;\n",
              "    }\n",
              "</style>\n",
              "<table border=\"1\" class=\"dataframe\">\n",
              "  <thead>\n",
              "    <tr style=\"text-align: right;\">\n",
              "      <th></th>\n",
              "      <th>Elevation</th>\n",
              "      <th>Aspect</th>\n",
              "      <th>Slope</th>\n",
              "      <th>Horizontal_Distance_To_Hydrology</th>\n",
              "      <th>Vertical_Distance_To_Hydrology</th>\n",
              "      <th>Horizontal_Distance_To_Roadways</th>\n",
              "      <th>Hillshade_9am</th>\n",
              "      <th>Hillshade_3pm</th>\n",
              "      <th>Horizontal_Distance_To_Fire_Points</th>\n",
              "      <th>Wilderness_Area4</th>\n",
              "    </tr>\n",
              "  </thead>\n",
              "  <tbody>\n",
              "    <tr>\n",
              "      <th>0</th>\n",
              "      <td>2596.0</td>\n",
              "      <td>51.0</td>\n",
              "      <td>3.0</td>\n",
              "      <td>258</td>\n",
              "      <td>0</td>\n",
              "      <td>510</td>\n",
              "      <td>221.0</td>\n",
              "      <td>148.0</td>\n",
              "      <td>6279</td>\n",
              "      <td>0</td>\n",
              "    </tr>\n",
              "    <tr>\n",
              "      <th>1</th>\n",
              "      <td>2590.0</td>\n",
              "      <td>56.0</td>\n",
              "      <td>2.0</td>\n",
              "      <td>212</td>\n",
              "      <td>-6</td>\n",
              "      <td>390</td>\n",
              "      <td>220.0</td>\n",
              "      <td>151.0</td>\n",
              "      <td>6225</td>\n",
              "      <td>0</td>\n",
              "    </tr>\n",
              "    <tr>\n",
              "      <th>2</th>\n",
              "      <td>2804.0</td>\n",
              "      <td>139.0</td>\n",
              "      <td>9.0</td>\n",
              "      <td>268</td>\n",
              "      <td>65</td>\n",
              "      <td>3180</td>\n",
              "      <td>234.0</td>\n",
              "      <td>135.0</td>\n",
              "      <td>6121</td>\n",
              "      <td>0</td>\n",
              "    </tr>\n",
              "    <tr>\n",
              "      <th>3</th>\n",
              "      <td>2785.0</td>\n",
              "      <td>155.0</td>\n",
              "      <td>18.0</td>\n",
              "      <td>242</td>\n",
              "      <td>118</td>\n",
              "      <td>3090</td>\n",
              "      <td>238.0</td>\n",
              "      <td>122.0</td>\n",
              "      <td>6211</td>\n",
              "      <td>0</td>\n",
              "    </tr>\n",
              "    <tr>\n",
              "      <th>4</th>\n",
              "      <td>2595.0</td>\n",
              "      <td>45.0</td>\n",
              "      <td>2.0</td>\n",
              "      <td>153</td>\n",
              "      <td>-1</td>\n",
              "      <td>391</td>\n",
              "      <td>220.0</td>\n",
              "      <td>150.0</td>\n",
              "      <td>6172</td>\n",
              "      <td>0</td>\n",
              "    </tr>\n",
              "  </tbody>\n",
              "</table>\n",
              "</div>\n",
              "      <button class=\"colab-df-convert\" onclick=\"convertToInteractive('df-08c91825-7a97-44ab-945e-1b7f4fe823d1')\"\n",
              "              title=\"Convert this dataframe to an interactive table.\"\n",
              "              style=\"display:none;\">\n",
              "        \n",
              "  <svg xmlns=\"http://www.w3.org/2000/svg\" height=\"24px\"viewBox=\"0 0 24 24\"\n",
              "       width=\"24px\">\n",
              "    <path d=\"M0 0h24v24H0V0z\" fill=\"none\"/>\n",
              "    <path d=\"M18.56 5.44l.94 2.06.94-2.06 2.06-.94-2.06-.94-.94-2.06-.94 2.06-2.06.94zm-11 1L8.5 8.5l.94-2.06 2.06-.94-2.06-.94L8.5 2.5l-.94 2.06-2.06.94zm10 10l.94 2.06.94-2.06 2.06-.94-2.06-.94-.94-2.06-.94 2.06-2.06.94z\"/><path d=\"M17.41 7.96l-1.37-1.37c-.4-.4-.92-.59-1.43-.59-.52 0-1.04.2-1.43.59L10.3 9.45l-7.72 7.72c-.78.78-.78 2.05 0 2.83L4 21.41c.39.39.9.59 1.41.59.51 0 1.02-.2 1.41-.59l7.78-7.78 2.81-2.81c.8-.78.8-2.07 0-2.86zM5.41 20L4 18.59l7.72-7.72 1.47 1.35L5.41 20z\"/>\n",
              "  </svg>\n",
              "      </button>\n",
              "      \n",
              "  <style>\n",
              "    .colab-df-container {\n",
              "      display:flex;\n",
              "      flex-wrap:wrap;\n",
              "      gap: 12px;\n",
              "    }\n",
              "\n",
              "    .colab-df-convert {\n",
              "      background-color: #E8F0FE;\n",
              "      border: none;\n",
              "      border-radius: 50%;\n",
              "      cursor: pointer;\n",
              "      display: none;\n",
              "      fill: #1967D2;\n",
              "      height: 32px;\n",
              "      padding: 0 0 0 0;\n",
              "      width: 32px;\n",
              "    }\n",
              "\n",
              "    .colab-df-convert:hover {\n",
              "      background-color: #E2EBFA;\n",
              "      box-shadow: 0px 1px 2px rgba(60, 64, 67, 0.3), 0px 1px 3px 1px rgba(60, 64, 67, 0.15);\n",
              "      fill: #174EA6;\n",
              "    }\n",
              "\n",
              "    [theme=dark] .colab-df-convert {\n",
              "      background-color: #3B4455;\n",
              "      fill: #D2E3FC;\n",
              "    }\n",
              "\n",
              "    [theme=dark] .colab-df-convert:hover {\n",
              "      background-color: #434B5C;\n",
              "      box-shadow: 0px 1px 3px 1px rgba(0, 0, 0, 0.15);\n",
              "      filter: drop-shadow(0px 1px 2px rgba(0, 0, 0, 0.3));\n",
              "      fill: #FFFFFF;\n",
              "    }\n",
              "  </style>\n",
              "\n",
              "      <script>\n",
              "        const buttonEl =\n",
              "          document.querySelector('#df-08c91825-7a97-44ab-945e-1b7f4fe823d1 button.colab-df-convert');\n",
              "        buttonEl.style.display =\n",
              "          google.colab.kernel.accessAllowed ? 'block' : 'none';\n",
              "\n",
              "        async function convertToInteractive(key) {\n",
              "          const element = document.querySelector('#df-08c91825-7a97-44ab-945e-1b7f4fe823d1');\n",
              "          const dataTable =\n",
              "            await google.colab.kernel.invokeFunction('convertToInteractive',\n",
              "                                                     [key], {});\n",
              "          if (!dataTable) return;\n",
              "\n",
              "          const docLinkHtml = 'Like what you see? Visit the ' +\n",
              "            '<a target=\"_blank\" href=https://colab.research.google.com/notebooks/data_table.ipynb>data table notebook</a>'\n",
              "            + ' to learn more about interactive tables.';\n",
              "          element.innerHTML = '';\n",
              "          dataTable['output_type'] = 'display_data';\n",
              "          await google.colab.output.renderOutput(dataTable, element);\n",
              "          const docLink = document.createElement('div');\n",
              "          docLink.innerHTML = docLinkHtml;\n",
              "          element.appendChild(docLink);\n",
              "        }\n",
              "      </script>\n",
              "    </div>\n",
              "  </div>\n",
              "  "
            ]
          },
          "metadata": {},
          "execution_count": 2
        }
      ]
    },
    {
      "cell_type": "code",
      "source": [
        "#load dataset from github in .json\n",
        "df_explor=pd.read_json(\"https://raw.githubusercontent.com/BustamJos3/ia4eng_jdbs_afmp_project/WorkOnModelsLearningPlots/BustamJos3/01exploracion.json\",orient='index')['Cover_Type']\n",
        "df_explor.head()"
      ],
      "metadata": {
        "colab": {
          "base_uri": "https://localhost:8080/"
        },
        "id": "-LgWdRPDOGlT",
        "outputId": "082f189d-8bfc-452b-d8d8-b8db7c510f8b"
      },
      "execution_count": 4,
      "outputs": [
        {
          "output_type": "execute_result",
          "data": {
            "text/plain": [
              "0    5\n",
              "1    5\n",
              "2    2\n",
              "3    2\n",
              "4    5\n",
              "Name: Cover_Type, dtype: int64"
            ]
          },
          "metadata": {},
          "execution_count": 4
        }
      ]
    },
    {
      "cell_type": "markdown",
      "source": [
        "# TrainTest Splitting"
      ],
      "metadata": {
        "id": "kmBsI6O855tY"
      }
    },
    {
      "cell_type": "code",
      "source": [
        "# get x,y\n",
        "X,y=df_prepro, df_explor\n",
        "#TrainTestSplit 1/3 of data, shuffle data before splitting\n",
        "X_train, X_testValidation, y_train, y_testValidation = train_test_split(X, y, test_size=0.33, random_state=42, shuffle=True)"
      ],
      "metadata": {
        "id": "tvFDN7_H57Xq"
      },
      "execution_count": 5,
      "outputs": []
    },
    {
      "cell_type": "markdown",
      "source": [
        "# Hyperparameters\n"
      ],
      "metadata": {
        "id": "QAEwfSQKLCyy"
      }
    },
    {
      "cell_type": "code",
      "source": [
        "#hyperparameter selection method\n",
        "from sklearn.model_selection import GridSearchCV"
      ],
      "metadata": {
        "id": "ZrJx-2mSSz0V"
      },
      "execution_count": 9,
      "outputs": []
    },
    {
      "cell_type": "markdown",
      "source": [
        "## Supervised"
      ],
      "metadata": {
        "id": "6EHmwN-4S0qu"
      }
    },
    {
      "cell_type": "markdown",
      "source": [
        "### Random forest"
      ],
      "metadata": {
        "id": "eEBM69LtNsRv"
      }
    },
    {
      "cell_type": "code",
      "source": [
        "#import model\n",
        "from sklearn.ensemble import RandomForestClassifier\n",
        "#create model\n",
        "RForest=RandomForestClassifier()"
      ],
      "metadata": {
        "id": "hv442PJbLQ9n"
      },
      "execution_count": 6,
      "outputs": []
    },
    {
      "cell_type": "code",
      "source": [
        "#which are the parameters in this case?\n",
        "RForest.get_params()"
      ],
      "metadata": {
        "colab": {
          "base_uri": "https://localhost:8080/"
        },
        "id": "kYpwi3JMR9Qg",
        "outputId": "ecbf3c36-d80c-4b74-ea67-aab65ffd39fa"
      },
      "execution_count": 7,
      "outputs": [
        {
          "output_type": "execute_result",
          "data": {
            "text/plain": [
              "{'bootstrap': True,\n",
              " 'ccp_alpha': 0.0,\n",
              " 'class_weight': None,\n",
              " 'criterion': 'gini',\n",
              " 'max_depth': None,\n",
              " 'max_features': 'auto',\n",
              " 'max_leaf_nodes': None,\n",
              " 'max_samples': None,\n",
              " 'min_impurity_decrease': 0.0,\n",
              " 'min_samples_leaf': 1,\n",
              " 'min_samples_split': 2,\n",
              " 'min_weight_fraction_leaf': 0.0,\n",
              " 'n_estimators': 100,\n",
              " 'n_jobs': None,\n",
              " 'oob_score': False,\n",
              " 'random_state': None,\n",
              " 'verbose': 0,\n",
              " 'warm_start': False}"
            ]
          },
          "metadata": {},
          "execution_count": 7
        }
      ]
    },
    {
      "cell_type": "markdown",
      "source": [
        "#### What are the chosen?\n",
        "For this model, 3 parameters will be chosen:\n",
        "* ```'n_estimators'```\n",
        "* ```'max_samples'```\n",
        "* ```'criterion'```"
      ],
      "metadata": {
        "id": "2WZ6lCILSGvS"
      }
    },
    {
      "cell_type": "code",
      "source": [
        "#dictionary with selected parameters to begin the hyperparemeter search\n",
        "parameters={'criterion':('gini','entropy'),\n",
        "            'n_estimators':(10,20,30),\n",
        "            'max_samples':(1/4,2/4,3/4)\n",
        "            }\n",
        "#create gridSearch variable\n",
        "gridCV=GridSearchCV(RForest,parameters,scoring='accuracy')"
      ],
      "metadata": {
        "id": "PYEf8uqlSuuk"
      },
      "execution_count": 10,
      "outputs": []
    },
    {
      "cell_type": "code",
      "source": [
        "#fit the grid\n",
        "#fit works with numpy arrays, so .values on df's\n",
        "gridCV.fit(X_train.values,y_train.values)"
      ],
      "metadata": {
        "colab": {
          "base_uri": "https://localhost:8080/"
        },
        "id": "qIVskuHEUM0_",
        "outputId": "53c3f037-f963-4a03-8420-3394ccf23a49"
      },
      "execution_count": 11,
      "outputs": [
        {
          "output_type": "execute_result",
          "data": {
            "text/plain": [
              "GridSearchCV(estimator=RandomForestClassifier(),\n",
              "             param_grid={'criterion': ('gini', 'entropy'),\n",
              "                         'max_samples': (0.25, 0.5, 0.75),\n",
              "                         'n_estimators': (10, 20, 30)},\n",
              "             scoring='accuracy')"
            ]
          },
          "metadata": {},
          "execution_count": 11
        }
      ]
    },
    {
      "cell_type": "code",
      "source": [
        "#ranking of combinations\n",
        "print(gridCV.cv_results_['rank_test_score'])\n",
        "#accuracy value of combinations\n",
        "print(gridCV.cv_results_['mean_test_score'])"
      ],
      "metadata": {
        "colab": {
          "base_uri": "https://localhost:8080/"
        },
        "id": "2G9FfZAWUzJ2",
        "outputId": "b8a26047-6c0e-4aca-9501-305bc146ac73"
      },
      "execution_count": 14,
      "outputs": [
        {
          "output_type": "stream",
          "name": "stdout",
          "text": [
            "[18 13 14 16  8  4  9  6  1 17 11 12 15  7  5 10  3  2]\n",
            "[0.72556762 0.75745311 0.75715696 0.74797631 0.77087858 0.78371175\n",
            " 0.76446199 0.78055281 0.79220138 0.73060217 0.75824284 0.75814413\n",
            " 0.75251728 0.77344521 0.78361303 0.76238894 0.78410661 0.79012833]\n"
          ]
        }
      ]
    },
    {
      "cell_type": "code",
      "source": [
        "#best accuracy result\n",
        "print(gridCV.best_score_)\n",
        "#best hyperparameter\n",
        "print(gridCV.best_params_)"
      ],
      "metadata": {
        "colab": {
          "base_uri": "https://localhost:8080/"
        },
        "id": "nFa63nNjj5Ug",
        "outputId": "2358e7bc-07bf-4857-bcb2-1baa089e8696"
      },
      "execution_count": 16,
      "outputs": [
        {
          "output_type": "stream",
          "name": "stdout",
          "text": [
            "0.7922013820335637\n",
            "{'criterion': 'gini', 'max_samples': 0.75, 'n_estimators': 30}\n"
          ]
        }
      ]
    },
    {
      "cell_type": "markdown",
      "source": [
        "## Unsupervised models"
      ],
      "metadata": {
        "id": "5OISpGGvLJZp"
      }
    },
    {
      "cell_type": "code",
      "source": [],
      "metadata": {
        "id": "jsON_djmLSOZ"
      },
      "execution_count": null,
      "outputs": []
    },
    {
      "cell_type": "markdown",
      "source": [
        "# Learning curves"
      ],
      "metadata": {
        "id": "-L-bBYENLKnq"
      }
    },
    {
      "cell_type": "markdown",
      "source": [
        "## Random forest"
      ],
      "metadata": {
        "id": "QouHvYyGlgI7"
      }
    },
    {
      "cell_type": "code",
      "source": [
        "gridCV.predict(X_testValidation.values)"
      ],
      "metadata": {
        "id": "0OcwWHg0LFY_"
      },
      "execution_count": null,
      "outputs": []
    }
  ]
}