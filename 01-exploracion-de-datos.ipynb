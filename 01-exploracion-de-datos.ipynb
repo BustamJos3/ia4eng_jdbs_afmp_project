{
  "nbformat": 4,
  "nbformat_minor": 0,
  "metadata": {
    "colab": {
      "name": "01 - exploracion de datos.ipynb",
      "provenance": [],
      "collapsed_sections": [],
      "include_colab_link": true
    },
    "kernelspec": {
      "name": "python3",
      "display_name": "Python 3"
    },
    "language_info": {
      "name": "python"
    }
  },
  "cells": [
    {
      "cell_type": "markdown",
      "metadata": {
        "id": "view-in-github",
        "colab_type": "text"
      },
      "source": [
        "<a href=\"https://colab.research.google.com/github/BustamJos3/ia4eng_jdbs_afmp_project/blob/main/01-exploracion-de-datos.ipynb\" target=\"_parent\"><img src=\"https://colab.research.google.com/assets/colab-badge.svg\" alt=\"Open In Colab\"/></a>"
      ]
    },
    {
      "cell_type": "markdown",
      "source": [
        "# Modules"
      ],
      "metadata": {
        "id": "nHUeVmd8q-rZ"
      }
    },
    {
      "cell_type": "code",
      "execution_count": 2,
      "metadata": {
        "id": "P-j6oxDdwgCu"
      },
      "outputs": [],
      "source": [
        "#modules\n",
        "import numpy as np\n",
        "import pandas as pd\n",
        "import matplotlib.pyplot as plt\n",
        "%matplotlib inline\n",
        "from zipfile import ZipFile\n",
        "import seaborn as sns\n",
        "import sklearn as sk\n",
        "from scipy import stats"
      ]
    },
    {
      "cell_type": "code",
      "source": [
        "#call API\n",
        "!pip install kaggle\n",
        "#upload kaggle token .json\n",
        "from google.colab import files\n",
        "files.upload()"
      ],
      "metadata": {
        "id": "9YMAOXJkuOyQ",
        "colab": {
          "resources": {
            "http://localhost:8080/nbextensions/google.colab/files.js": {
              "data": "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",
              "ok": true,
              "headers": [
                [
                  "content-type",
                  "application/javascript"
                ]
              ],
              "status": 200,
              "status_text": ""
            }
          },
          "base_uri": "https://localhost:8080/",
          "height": 319
        },
        "outputId": "984bc3b3-d290-4400-a912-05038cf037d9"
      },
      "execution_count": 3,
      "outputs": [
        {
          "output_type": "stream",
          "name": "stdout",
          "text": [
            "Looking in indexes: https://pypi.org/simple, https://us-python.pkg.dev/colab-wheels/public/simple/\n",
            "Requirement already satisfied: kaggle in /usr/local/lib/python3.7/dist-packages (1.5.12)\n",
            "Requirement already satisfied: six>=1.10 in /usr/local/lib/python3.7/dist-packages (from kaggle) (1.15.0)\n",
            "Requirement already satisfied: tqdm in /usr/local/lib/python3.7/dist-packages (from kaggle) (4.64.0)\n",
            "Requirement already satisfied: certifi in /usr/local/lib/python3.7/dist-packages (from kaggle) (2022.6.15)\n",
            "Requirement already satisfied: python-slugify in /usr/local/lib/python3.7/dist-packages (from kaggle) (6.1.2)\n",
            "Requirement already satisfied: requests in /usr/local/lib/python3.7/dist-packages (from kaggle) (2.23.0)\n",
            "Requirement already satisfied: urllib3 in /usr/local/lib/python3.7/dist-packages (from kaggle) (1.24.3)\n",
            "Requirement already satisfied: python-dateutil in /usr/local/lib/python3.7/dist-packages (from kaggle) (2.8.2)\n",
            "Requirement already satisfied: text-unidecode>=1.3 in /usr/local/lib/python3.7/dist-packages (from python-slugify->kaggle) (1.3)\n",
            "Requirement already satisfied: idna<3,>=2.5 in /usr/local/lib/python3.7/dist-packages (from requests->kaggle) (2.10)\n",
            "Requirement already satisfied: chardet<4,>=3.0.2 in /usr/local/lib/python3.7/dist-packages (from requests->kaggle) (3.0.4)\n"
          ]
        },
        {
          "output_type": "display_data",
          "data": {
            "text/plain": [
              "<IPython.core.display.HTML object>"
            ],
            "text/html": [
              "\n",
              "     <input type=\"file\" id=\"files-cc63a58d-b216-400e-a26d-2646cc008e74\" name=\"files[]\" multiple disabled\n",
              "        style=\"border:none\" />\n",
              "     <output id=\"result-cc63a58d-b216-400e-a26d-2646cc008e74\">\n",
              "      Upload widget is only available when the cell has been executed in the\n",
              "      current browser session. Please rerun this cell to enable.\n",
              "      </output>\n",
              "      <script src=\"/nbextensions/google.colab/files.js\"></script> "
            ]
          },
          "metadata": {}
        },
        {
          "output_type": "stream",
          "name": "stdout",
          "text": [
            "Saving kaggle.json to kaggle (1).json\n"
          ]
        },
        {
          "output_type": "execute_result",
          "data": {
            "text/plain": [
              "{'kaggle.json': b'{\"username\":\"bustamjos3\",\"key\":\"a80d020fd1917115be9ce5ce749b71d9\"}'}"
            ]
          },
          "metadata": {},
          "execution_count": 3
        }
      ]
    },
    {
      "cell_type": "markdown",
      "source": [
        "# Charge data for Forest Cover"
      ],
      "metadata": {
        "id": "40ud2cHsstc9"
      }
    },
    {
      "cell_type": "code",
      "source": [
        "#Make a directory named kaggle and copy the kaggle.json file there.\n",
        "!mkdir -p ~/.kaggle\n",
        "!cp kaggle.json ~/.kaggle/\n",
        "# change the permission of the file\n",
        "!chmod 600 ~/.kaggle/kaggle.json\n",
        "#API from forest cover dataset\n",
        "!kaggle competitions download -c forest-cover-type-prediction\n",
        "#unzip files\n",
        "file_name = 'forest-cover-type-prediction.zip' #the file is the dataset exact name\n",
        "with ZipFile(file_name, 'r') as zip:\n",
        "  zip.extractall()\n",
        "  print('Done')\n",
        "# .zip is now not necessary\n",
        "!rm *.zip"
      ],
      "metadata": {
        "id": "0Z3AfCxm3dPQ",
        "colab": {
          "base_uri": "https://localhost:8080/"
        },
        "outputId": "47e3b716-49eb-47a6-a718-81176c9fa78b"
      },
      "execution_count": 4,
      "outputs": [
        {
          "output_type": "stream",
          "name": "stdout",
          "text": [
            "Downloading forest-cover-type-prediction.zip to /content\n",
            " 71% 18.0M/25.3M [00:00<00:00, 91.5MB/s]\n",
            "100% 25.3M/25.3M [00:00<00:00, 105MB/s] \n",
            "Done\n"
          ]
        }
      ]
    },
    {
      "cell_type": "markdown",
      "source": [
        "# Data exploration"
      ],
      "metadata": {
        "id": "K1Gm6Dyqs05E"
      }
    },
    {
      "cell_type": "code",
      "source": [
        "#create DF from train\n",
        "df_train = pd.read_csv('train.csv')\n",
        "df_train.head()"
      ],
      "metadata": {
        "id": "fpywsso56ZQF",
        "colab": {
          "base_uri": "https://localhost:8080/",
          "height": 300
        },
        "outputId": "6115e3e8-e052-407b-e00a-f3377c570dff"
      },
      "execution_count": 5,
      "outputs": [
        {
          "output_type": "execute_result",
          "data": {
            "text/plain": [
              "   Id  Elevation  Aspect  Slope  Horizontal_Distance_To_Hydrology  \\\n",
              "0   1       2596      51      3                               258   \n",
              "1   2       2590      56      2                               212   \n",
              "2   3       2804     139      9                               268   \n",
              "3   4       2785     155     18                               242   \n",
              "4   5       2595      45      2                               153   \n",
              "\n",
              "   Vertical_Distance_To_Hydrology  Horizontal_Distance_To_Roadways  \\\n",
              "0                               0                              510   \n",
              "1                              -6                              390   \n",
              "2                              65                             3180   \n",
              "3                             118                             3090   \n",
              "4                              -1                              391   \n",
              "\n",
              "   Hillshade_9am  Hillshade_Noon  Hillshade_3pm  ...  Soil_Type32  \\\n",
              "0            221             232            148  ...            0   \n",
              "1            220             235            151  ...            0   \n",
              "2            234             238            135  ...            0   \n",
              "3            238             238            122  ...            0   \n",
              "4            220             234            150  ...            0   \n",
              "\n",
              "   Soil_Type33  Soil_Type34  Soil_Type35  Soil_Type36  Soil_Type37  \\\n",
              "0            0            0            0            0            0   \n",
              "1            0            0            0            0            0   \n",
              "2            0            0            0            0            0   \n",
              "3            0            0            0            0            0   \n",
              "4            0            0            0            0            0   \n",
              "\n",
              "   Soil_Type38  Soil_Type39  Soil_Type40  Cover_Type  \n",
              "0            0            0            0           5  \n",
              "1            0            0            0           5  \n",
              "2            0            0            0           2  \n",
              "3            0            0            0           2  \n",
              "4            0            0            0           5  \n",
              "\n",
              "[5 rows x 56 columns]"
            ],
            "text/html": [
              "\n",
              "  <div id=\"df-fe342a4c-e43d-416f-b136-3fb581263d2a\">\n",
              "    <div class=\"colab-df-container\">\n",
              "      <div>\n",
              "<style scoped>\n",
              "    .dataframe tbody tr th:only-of-type {\n",
              "        vertical-align: middle;\n",
              "    }\n",
              "\n",
              "    .dataframe tbody tr th {\n",
              "        vertical-align: top;\n",
              "    }\n",
              "\n",
              "    .dataframe thead th {\n",
              "        text-align: right;\n",
              "    }\n",
              "</style>\n",
              "<table border=\"1\" class=\"dataframe\">\n",
              "  <thead>\n",
              "    <tr style=\"text-align: right;\">\n",
              "      <th></th>\n",
              "      <th>Id</th>\n",
              "      <th>Elevation</th>\n",
              "      <th>Aspect</th>\n",
              "      <th>Slope</th>\n",
              "      <th>Horizontal_Distance_To_Hydrology</th>\n",
              "      <th>Vertical_Distance_To_Hydrology</th>\n",
              "      <th>Horizontal_Distance_To_Roadways</th>\n",
              "      <th>Hillshade_9am</th>\n",
              "      <th>Hillshade_Noon</th>\n",
              "      <th>Hillshade_3pm</th>\n",
              "      <th>...</th>\n",
              "      <th>Soil_Type32</th>\n",
              "      <th>Soil_Type33</th>\n",
              "      <th>Soil_Type34</th>\n",
              "      <th>Soil_Type35</th>\n",
              "      <th>Soil_Type36</th>\n",
              "      <th>Soil_Type37</th>\n",
              "      <th>Soil_Type38</th>\n",
              "      <th>Soil_Type39</th>\n",
              "      <th>Soil_Type40</th>\n",
              "      <th>Cover_Type</th>\n",
              "    </tr>\n",
              "  </thead>\n",
              "  <tbody>\n",
              "    <tr>\n",
              "      <th>0</th>\n",
              "      <td>1</td>\n",
              "      <td>2596</td>\n",
              "      <td>51</td>\n",
              "      <td>3</td>\n",
              "      <td>258</td>\n",
              "      <td>0</td>\n",
              "      <td>510</td>\n",
              "      <td>221</td>\n",
              "      <td>232</td>\n",
              "      <td>148</td>\n",
              "      <td>...</td>\n",
              "      <td>0</td>\n",
              "      <td>0</td>\n",
              "      <td>0</td>\n",
              "      <td>0</td>\n",
              "      <td>0</td>\n",
              "      <td>0</td>\n",
              "      <td>0</td>\n",
              "      <td>0</td>\n",
              "      <td>0</td>\n",
              "      <td>5</td>\n",
              "    </tr>\n",
              "    <tr>\n",
              "      <th>1</th>\n",
              "      <td>2</td>\n",
              "      <td>2590</td>\n",
              "      <td>56</td>\n",
              "      <td>2</td>\n",
              "      <td>212</td>\n",
              "      <td>-6</td>\n",
              "      <td>390</td>\n",
              "      <td>220</td>\n",
              "      <td>235</td>\n",
              "      <td>151</td>\n",
              "      <td>...</td>\n",
              "      <td>0</td>\n",
              "      <td>0</td>\n",
              "      <td>0</td>\n",
              "      <td>0</td>\n",
              "      <td>0</td>\n",
              "      <td>0</td>\n",
              "      <td>0</td>\n",
              "      <td>0</td>\n",
              "      <td>0</td>\n",
              "      <td>5</td>\n",
              "    </tr>\n",
              "    <tr>\n",
              "      <th>2</th>\n",
              "      <td>3</td>\n",
              "      <td>2804</td>\n",
              "      <td>139</td>\n",
              "      <td>9</td>\n",
              "      <td>268</td>\n",
              "      <td>65</td>\n",
              "      <td>3180</td>\n",
              "      <td>234</td>\n",
              "      <td>238</td>\n",
              "      <td>135</td>\n",
              "      <td>...</td>\n",
              "      <td>0</td>\n",
              "      <td>0</td>\n",
              "      <td>0</td>\n",
              "      <td>0</td>\n",
              "      <td>0</td>\n",
              "      <td>0</td>\n",
              "      <td>0</td>\n",
              "      <td>0</td>\n",
              "      <td>0</td>\n",
              "      <td>2</td>\n",
              "    </tr>\n",
              "    <tr>\n",
              "      <th>3</th>\n",
              "      <td>4</td>\n",
              "      <td>2785</td>\n",
              "      <td>155</td>\n",
              "      <td>18</td>\n",
              "      <td>242</td>\n",
              "      <td>118</td>\n",
              "      <td>3090</td>\n",
              "      <td>238</td>\n",
              "      <td>238</td>\n",
              "      <td>122</td>\n",
              "      <td>...</td>\n",
              "      <td>0</td>\n",
              "      <td>0</td>\n",
              "      <td>0</td>\n",
              "      <td>0</td>\n",
              "      <td>0</td>\n",
              "      <td>0</td>\n",
              "      <td>0</td>\n",
              "      <td>0</td>\n",
              "      <td>0</td>\n",
              "      <td>2</td>\n",
              "    </tr>\n",
              "    <tr>\n",
              "      <th>4</th>\n",
              "      <td>5</td>\n",
              "      <td>2595</td>\n",
              "      <td>45</td>\n",
              "      <td>2</td>\n",
              "      <td>153</td>\n",
              "      <td>-1</td>\n",
              "      <td>391</td>\n",
              "      <td>220</td>\n",
              "      <td>234</td>\n",
              "      <td>150</td>\n",
              "      <td>...</td>\n",
              "      <td>0</td>\n",
              "      <td>0</td>\n",
              "      <td>0</td>\n",
              "      <td>0</td>\n",
              "      <td>0</td>\n",
              "      <td>0</td>\n",
              "      <td>0</td>\n",
              "      <td>0</td>\n",
              "      <td>0</td>\n",
              "      <td>5</td>\n",
              "    </tr>\n",
              "  </tbody>\n",
              "</table>\n",
              "<p>5 rows × 56 columns</p>\n",
              "</div>\n",
              "      <button class=\"colab-df-convert\" onclick=\"convertToInteractive('df-fe342a4c-e43d-416f-b136-3fb581263d2a')\"\n",
              "              title=\"Convert this dataframe to an interactive table.\"\n",
              "              style=\"display:none;\">\n",
              "        \n",
              "  <svg xmlns=\"http://www.w3.org/2000/svg\" height=\"24px\"viewBox=\"0 0 24 24\"\n",
              "       width=\"24px\">\n",
              "    <path d=\"M0 0h24v24H0V0z\" fill=\"none\"/>\n",
              "    <path d=\"M18.56 5.44l.94 2.06.94-2.06 2.06-.94-2.06-.94-.94-2.06-.94 2.06-2.06.94zm-11 1L8.5 8.5l.94-2.06 2.06-.94-2.06-.94L8.5 2.5l-.94 2.06-2.06.94zm10 10l.94 2.06.94-2.06 2.06-.94-2.06-.94-.94-2.06-.94 2.06-2.06.94z\"/><path d=\"M17.41 7.96l-1.37-1.37c-.4-.4-.92-.59-1.43-.59-.52 0-1.04.2-1.43.59L10.3 9.45l-7.72 7.72c-.78.78-.78 2.05 0 2.83L4 21.41c.39.39.9.59 1.41.59.51 0 1.02-.2 1.41-.59l7.78-7.78 2.81-2.81c.8-.78.8-2.07 0-2.86zM5.41 20L4 18.59l7.72-7.72 1.47 1.35L5.41 20z\"/>\n",
              "  </svg>\n",
              "      </button>\n",
              "      \n",
              "  <style>\n",
              "    .colab-df-container {\n",
              "      display:flex;\n",
              "      flex-wrap:wrap;\n",
              "      gap: 12px;\n",
              "    }\n",
              "\n",
              "    .colab-df-convert {\n",
              "      background-color: #E8F0FE;\n",
              "      border: none;\n",
              "      border-radius: 50%;\n",
              "      cursor: pointer;\n",
              "      display: none;\n",
              "      fill: #1967D2;\n",
              "      height: 32px;\n",
              "      padding: 0 0 0 0;\n",
              "      width: 32px;\n",
              "    }\n",
              "\n",
              "    .colab-df-convert:hover {\n",
              "      background-color: #E2EBFA;\n",
              "      box-shadow: 0px 1px 2px rgba(60, 64, 67, 0.3), 0px 1px 3px 1px rgba(60, 64, 67, 0.15);\n",
              "      fill: #174EA6;\n",
              "    }\n",
              "\n",
              "    [theme=dark] .colab-df-convert {\n",
              "      background-color: #3B4455;\n",
              "      fill: #D2E3FC;\n",
              "    }\n",
              "\n",
              "    [theme=dark] .colab-df-convert:hover {\n",
              "      background-color: #434B5C;\n",
              "      box-shadow: 0px 1px 3px 1px rgba(0, 0, 0, 0.15);\n",
              "      filter: drop-shadow(0px 1px 2px rgba(0, 0, 0, 0.3));\n",
              "      fill: #FFFFFF;\n",
              "    }\n",
              "  </style>\n",
              "\n",
              "      <script>\n",
              "        const buttonEl =\n",
              "          document.querySelector('#df-fe342a4c-e43d-416f-b136-3fb581263d2a button.colab-df-convert');\n",
              "        buttonEl.style.display =\n",
              "          google.colab.kernel.accessAllowed ? 'block' : 'none';\n",
              "\n",
              "        async function convertToInteractive(key) {\n",
              "          const element = document.querySelector('#df-fe342a4c-e43d-416f-b136-3fb581263d2a');\n",
              "          const dataTable =\n",
              "            await google.colab.kernel.invokeFunction('convertToInteractive',\n",
              "                                                     [key], {});\n",
              "          if (!dataTable) return;\n",
              "\n",
              "          const docLinkHtml = 'Like what you see? Visit the ' +\n",
              "            '<a target=\"_blank\" href=https://colab.research.google.com/notebooks/data_table.ipynb>data table notebook</a>'\n",
              "            + ' to learn more about interactive tables.';\n",
              "          element.innerHTML = '';\n",
              "          dataTable['output_type'] = 'display_data';\n",
              "          await google.colab.output.renderOutput(dataTable, element);\n",
              "          const docLink = document.createElement('div');\n",
              "          docLink.innerHTML = docLinkHtml;\n",
              "          element.appendChild(docLink);\n",
              "        }\n",
              "      </script>\n",
              "    </div>\n",
              "  </div>\n",
              "  "
            ]
          },
          "metadata": {},
          "execution_count": 5
        }
      ]
    },
    {
      "cell_type": "markdown",
      "source": [
        "## Nan and categorical values induction"
      ],
      "metadata": {
        "id": "08SWeNoftc8J"
      }
    },
    {
      "cell_type": "markdown",
      "source": [
        "### Categorical values induction\n",
        "The initial organization of the data allows the next tranformation to categorical\n",
        "\n",
        "* The columns with ```'Soil_Type'```, when its presence is affirmative, have a number 1. If it is negative, the number is 0. So, the conversion will be ```'y'``` for 1 and ```'n'``` for 0.\n",
        "* In order to convert this values to a not biased form, it will be enough to just return them to their previous form."
      ],
      "metadata": {
        "id": "58Vn6GrGWrpM"
      }
    },
    {
      "cell_type": "code",
      "source": [
        "#selection of 'Soil_Type' columns\n",
        "# the replacing will beging with the 1 values]. In order to used DataFrame.where() we need to check for False values\n",
        "df_soil_type=df_train.loc[:,'Wilderness_Area1':'Soil_Type40']==0\n",
        "#replacing of 1 for 'y'\n",
        "df_train.loc[:,'Wilderness_Area1':'Soil_Type40']=df_train.loc[:,'Wilderness_Area1':'Soil_Type40'].where(df_soil_type,'y')\n",
        "#replacing of 0 for 'n'\n",
        "df_soil_type=df_train.loc[:,'Wilderness_Area1':'Soil_Type40']=='y'\n",
        "df_train.loc[:,'Wilderness_Area1':'Soil_Type40']=df_train.loc[:,'Wilderness_Area1':'Soil_Type40'].where(df_soil_type,'n')"
      ],
      "metadata": {
        "id": "TbuVsnT6YORF"
      },
      "execution_count": 6,
      "outputs": []
    },
    {
      "cell_type": "code",
      "source": [
        "#lets check those columns\n",
        "df_train.loc[:,'Wilderness_Area1':'Soil_Type40']"
      ],
      "metadata": {
        "colab": {
          "base_uri": "https://localhost:8080/",
          "height": 488
        },
        "id": "XJ_fIntbtBlA",
        "outputId": "971a760b-8b3f-4d7c-bec2-9c9d94b3a036"
      },
      "execution_count": 7,
      "outputs": [
        {
          "output_type": "execute_result",
          "data": {
            "text/plain": [
              "      Wilderness_Area1 Wilderness_Area2 Wilderness_Area3 Wilderness_Area4  \\\n",
              "0                    y                n                n                n   \n",
              "1                    y                n                n                n   \n",
              "2                    y                n                n                n   \n",
              "3                    y                n                n                n   \n",
              "4                    y                n                n                n   \n",
              "...                ...              ...              ...              ...   \n",
              "15115                n                n                y                n   \n",
              "15116                n                n                y                n   \n",
              "15117                n                n                y                n   \n",
              "15118                n                n                y                n   \n",
              "15119                n                n                y                n   \n",
              "\n",
              "      Soil_Type1 Soil_Type2 Soil_Type3 Soil_Type4 Soil_Type5 Soil_Type6  ...  \\\n",
              "0              n          n          n          n          n          n  ...   \n",
              "1              n          n          n          n          n          n  ...   \n",
              "2              n          n          n          n          n          n  ...   \n",
              "3              n          n          n          n          n          n  ...   \n",
              "4              n          n          n          n          n          n  ...   \n",
              "...          ...        ...        ...        ...        ...        ...  ...   \n",
              "15115          n          n          n          y          n          n  ...   \n",
              "15116          n          n          n          y          n          n  ...   \n",
              "15117          n          n          n          y          n          n  ...   \n",
              "15118          n          n          n          y          n          n  ...   \n",
              "15119          n          y          n          n          n          n  ...   \n",
              "\n",
              "      Soil_Type31 Soil_Type32 Soil_Type33 Soil_Type34 Soil_Type35 Soil_Type36  \\\n",
              "0               n           n           n           n           n           n   \n",
              "1               n           n           n           n           n           n   \n",
              "2               n           n           n           n           n           n   \n",
              "3               n           n           n           n           n           n   \n",
              "4               n           n           n           n           n           n   \n",
              "...           ...         ...         ...         ...         ...         ...   \n",
              "15115           n           n           n           n           n           n   \n",
              "15116           n           n           n           n           n           n   \n",
              "15117           n           n           n           n           n           n   \n",
              "15118           n           n           n           n           n           n   \n",
              "15119           n           n           n           n           n           n   \n",
              "\n",
              "      Soil_Type37 Soil_Type38 Soil_Type39 Soil_Type40  \n",
              "0               n           n           n           n  \n",
              "1               n           n           n           n  \n",
              "2               n           n           n           n  \n",
              "3               n           n           n           n  \n",
              "4               n           n           n           n  \n",
              "...           ...         ...         ...         ...  \n",
              "15115           n           n           n           n  \n",
              "15116           n           n           n           n  \n",
              "15117           n           n           n           n  \n",
              "15118           n           n           n           n  \n",
              "15119           n           n           n           n  \n",
              "\n",
              "[15120 rows x 44 columns]"
            ],
            "text/html": [
              "\n",
              "  <div id=\"df-b9be6311-82d3-44a1-8a87-b1901838a868\">\n",
              "    <div class=\"colab-df-container\">\n",
              "      <div>\n",
              "<style scoped>\n",
              "    .dataframe tbody tr th:only-of-type {\n",
              "        vertical-align: middle;\n",
              "    }\n",
              "\n",
              "    .dataframe tbody tr th {\n",
              "        vertical-align: top;\n",
              "    }\n",
              "\n",
              "    .dataframe thead th {\n",
              "        text-align: right;\n",
              "    }\n",
              "</style>\n",
              "<table border=\"1\" class=\"dataframe\">\n",
              "  <thead>\n",
              "    <tr style=\"text-align: right;\">\n",
              "      <th></th>\n",
              "      <th>Wilderness_Area1</th>\n",
              "      <th>Wilderness_Area2</th>\n",
              "      <th>Wilderness_Area3</th>\n",
              "      <th>Wilderness_Area4</th>\n",
              "      <th>Soil_Type1</th>\n",
              "      <th>Soil_Type2</th>\n",
              "      <th>Soil_Type3</th>\n",
              "      <th>Soil_Type4</th>\n",
              "      <th>Soil_Type5</th>\n",
              "      <th>Soil_Type6</th>\n",
              "      <th>...</th>\n",
              "      <th>Soil_Type31</th>\n",
              "      <th>Soil_Type32</th>\n",
              "      <th>Soil_Type33</th>\n",
              "      <th>Soil_Type34</th>\n",
              "      <th>Soil_Type35</th>\n",
              "      <th>Soil_Type36</th>\n",
              "      <th>Soil_Type37</th>\n",
              "      <th>Soil_Type38</th>\n",
              "      <th>Soil_Type39</th>\n",
              "      <th>Soil_Type40</th>\n",
              "    </tr>\n",
              "  </thead>\n",
              "  <tbody>\n",
              "    <tr>\n",
              "      <th>0</th>\n",
              "      <td>y</td>\n",
              "      <td>n</td>\n",
              "      <td>n</td>\n",
              "      <td>n</td>\n",
              "      <td>n</td>\n",
              "      <td>n</td>\n",
              "      <td>n</td>\n",
              "      <td>n</td>\n",
              "      <td>n</td>\n",
              "      <td>n</td>\n",
              "      <td>...</td>\n",
              "      <td>n</td>\n",
              "      <td>n</td>\n",
              "      <td>n</td>\n",
              "      <td>n</td>\n",
              "      <td>n</td>\n",
              "      <td>n</td>\n",
              "      <td>n</td>\n",
              "      <td>n</td>\n",
              "      <td>n</td>\n",
              "      <td>n</td>\n",
              "    </tr>\n",
              "    <tr>\n",
              "      <th>1</th>\n",
              "      <td>y</td>\n",
              "      <td>n</td>\n",
              "      <td>n</td>\n",
              "      <td>n</td>\n",
              "      <td>n</td>\n",
              "      <td>n</td>\n",
              "      <td>n</td>\n",
              "      <td>n</td>\n",
              "      <td>n</td>\n",
              "      <td>n</td>\n",
              "      <td>...</td>\n",
              "      <td>n</td>\n",
              "      <td>n</td>\n",
              "      <td>n</td>\n",
              "      <td>n</td>\n",
              "      <td>n</td>\n",
              "      <td>n</td>\n",
              "      <td>n</td>\n",
              "      <td>n</td>\n",
              "      <td>n</td>\n",
              "      <td>n</td>\n",
              "    </tr>\n",
              "    <tr>\n",
              "      <th>2</th>\n",
              "      <td>y</td>\n",
              "      <td>n</td>\n",
              "      <td>n</td>\n",
              "      <td>n</td>\n",
              "      <td>n</td>\n",
              "      <td>n</td>\n",
              "      <td>n</td>\n",
              "      <td>n</td>\n",
              "      <td>n</td>\n",
              "      <td>n</td>\n",
              "      <td>...</td>\n",
              "      <td>n</td>\n",
              "      <td>n</td>\n",
              "      <td>n</td>\n",
              "      <td>n</td>\n",
              "      <td>n</td>\n",
              "      <td>n</td>\n",
              "      <td>n</td>\n",
              "      <td>n</td>\n",
              "      <td>n</td>\n",
              "      <td>n</td>\n",
              "    </tr>\n",
              "    <tr>\n",
              "      <th>3</th>\n",
              "      <td>y</td>\n",
              "      <td>n</td>\n",
              "      <td>n</td>\n",
              "      <td>n</td>\n",
              "      <td>n</td>\n",
              "      <td>n</td>\n",
              "      <td>n</td>\n",
              "      <td>n</td>\n",
              "      <td>n</td>\n",
              "      <td>n</td>\n",
              "      <td>...</td>\n",
              "      <td>n</td>\n",
              "      <td>n</td>\n",
              "      <td>n</td>\n",
              "      <td>n</td>\n",
              "      <td>n</td>\n",
              "      <td>n</td>\n",
              "      <td>n</td>\n",
              "      <td>n</td>\n",
              "      <td>n</td>\n",
              "      <td>n</td>\n",
              "    </tr>\n",
              "    <tr>\n",
              "      <th>4</th>\n",
              "      <td>y</td>\n",
              "      <td>n</td>\n",
              "      <td>n</td>\n",
              "      <td>n</td>\n",
              "      <td>n</td>\n",
              "      <td>n</td>\n",
              "      <td>n</td>\n",
              "      <td>n</td>\n",
              "      <td>n</td>\n",
              "      <td>n</td>\n",
              "      <td>...</td>\n",
              "      <td>n</td>\n",
              "      <td>n</td>\n",
              "      <td>n</td>\n",
              "      <td>n</td>\n",
              "      <td>n</td>\n",
              "      <td>n</td>\n",
              "      <td>n</td>\n",
              "      <td>n</td>\n",
              "      <td>n</td>\n",
              "      <td>n</td>\n",
              "    </tr>\n",
              "    <tr>\n",
              "      <th>...</th>\n",
              "      <td>...</td>\n",
              "      <td>...</td>\n",
              "      <td>...</td>\n",
              "      <td>...</td>\n",
              "      <td>...</td>\n",
              "      <td>...</td>\n",
              "      <td>...</td>\n",
              "      <td>...</td>\n",
              "      <td>...</td>\n",
              "      <td>...</td>\n",
              "      <td>...</td>\n",
              "      <td>...</td>\n",
              "      <td>...</td>\n",
              "      <td>...</td>\n",
              "      <td>...</td>\n",
              "      <td>...</td>\n",
              "      <td>...</td>\n",
              "      <td>...</td>\n",
              "      <td>...</td>\n",
              "      <td>...</td>\n",
              "      <td>...</td>\n",
              "    </tr>\n",
              "    <tr>\n",
              "      <th>15115</th>\n",
              "      <td>n</td>\n",
              "      <td>n</td>\n",
              "      <td>y</td>\n",
              "      <td>n</td>\n",
              "      <td>n</td>\n",
              "      <td>n</td>\n",
              "      <td>n</td>\n",
              "      <td>y</td>\n",
              "      <td>n</td>\n",
              "      <td>n</td>\n",
              "      <td>...</td>\n",
              "      <td>n</td>\n",
              "      <td>n</td>\n",
              "      <td>n</td>\n",
              "      <td>n</td>\n",
              "      <td>n</td>\n",
              "      <td>n</td>\n",
              "      <td>n</td>\n",
              "      <td>n</td>\n",
              "      <td>n</td>\n",
              "      <td>n</td>\n",
              "    </tr>\n",
              "    <tr>\n",
              "      <th>15116</th>\n",
              "      <td>n</td>\n",
              "      <td>n</td>\n",
              "      <td>y</td>\n",
              "      <td>n</td>\n",
              "      <td>n</td>\n",
              "      <td>n</td>\n",
              "      <td>n</td>\n",
              "      <td>y</td>\n",
              "      <td>n</td>\n",
              "      <td>n</td>\n",
              "      <td>...</td>\n",
              "      <td>n</td>\n",
              "      <td>n</td>\n",
              "      <td>n</td>\n",
              "      <td>n</td>\n",
              "      <td>n</td>\n",
              "      <td>n</td>\n",
              "      <td>n</td>\n",
              "      <td>n</td>\n",
              "      <td>n</td>\n",
              "      <td>n</td>\n",
              "    </tr>\n",
              "    <tr>\n",
              "      <th>15117</th>\n",
              "      <td>n</td>\n",
              "      <td>n</td>\n",
              "      <td>y</td>\n",
              "      <td>n</td>\n",
              "      <td>n</td>\n",
              "      <td>n</td>\n",
              "      <td>n</td>\n",
              "      <td>y</td>\n",
              "      <td>n</td>\n",
              "      <td>n</td>\n",
              "      <td>...</td>\n",
              "      <td>n</td>\n",
              "      <td>n</td>\n",
              "      <td>n</td>\n",
              "      <td>n</td>\n",
              "      <td>n</td>\n",
              "      <td>n</td>\n",
              "      <td>n</td>\n",
              "      <td>n</td>\n",
              "      <td>n</td>\n",
              "      <td>n</td>\n",
              "    </tr>\n",
              "    <tr>\n",
              "      <th>15118</th>\n",
              "      <td>n</td>\n",
              "      <td>n</td>\n",
              "      <td>y</td>\n",
              "      <td>n</td>\n",
              "      <td>n</td>\n",
              "      <td>n</td>\n",
              "      <td>n</td>\n",
              "      <td>y</td>\n",
              "      <td>n</td>\n",
              "      <td>n</td>\n",
              "      <td>...</td>\n",
              "      <td>n</td>\n",
              "      <td>n</td>\n",
              "      <td>n</td>\n",
              "      <td>n</td>\n",
              "      <td>n</td>\n",
              "      <td>n</td>\n",
              "      <td>n</td>\n",
              "      <td>n</td>\n",
              "      <td>n</td>\n",
              "      <td>n</td>\n",
              "    </tr>\n",
              "    <tr>\n",
              "      <th>15119</th>\n",
              "      <td>n</td>\n",
              "      <td>n</td>\n",
              "      <td>y</td>\n",
              "      <td>n</td>\n",
              "      <td>n</td>\n",
              "      <td>y</td>\n",
              "      <td>n</td>\n",
              "      <td>n</td>\n",
              "      <td>n</td>\n",
              "      <td>n</td>\n",
              "      <td>...</td>\n",
              "      <td>n</td>\n",
              "      <td>n</td>\n",
              "      <td>n</td>\n",
              "      <td>n</td>\n",
              "      <td>n</td>\n",
              "      <td>n</td>\n",
              "      <td>n</td>\n",
              "      <td>n</td>\n",
              "      <td>n</td>\n",
              "      <td>n</td>\n",
              "    </tr>\n",
              "  </tbody>\n",
              "</table>\n",
              "<p>15120 rows × 44 columns</p>\n",
              "</div>\n",
              "      <button class=\"colab-df-convert\" onclick=\"convertToInteractive('df-b9be6311-82d3-44a1-8a87-b1901838a868')\"\n",
              "              title=\"Convert this dataframe to an interactive table.\"\n",
              "              style=\"display:none;\">\n",
              "        \n",
              "  <svg xmlns=\"http://www.w3.org/2000/svg\" height=\"24px\"viewBox=\"0 0 24 24\"\n",
              "       width=\"24px\">\n",
              "    <path d=\"M0 0h24v24H0V0z\" fill=\"none\"/>\n",
              "    <path d=\"M18.56 5.44l.94 2.06.94-2.06 2.06-.94-2.06-.94-.94-2.06-.94 2.06-2.06.94zm-11 1L8.5 8.5l.94-2.06 2.06-.94-2.06-.94L8.5 2.5l-.94 2.06-2.06.94zm10 10l.94 2.06.94-2.06 2.06-.94-2.06-.94-.94-2.06-.94 2.06-2.06.94z\"/><path d=\"M17.41 7.96l-1.37-1.37c-.4-.4-.92-.59-1.43-.59-.52 0-1.04.2-1.43.59L10.3 9.45l-7.72 7.72c-.78.78-.78 2.05 0 2.83L4 21.41c.39.39.9.59 1.41.59.51 0 1.02-.2 1.41-.59l7.78-7.78 2.81-2.81c.8-.78.8-2.07 0-2.86zM5.41 20L4 18.59l7.72-7.72 1.47 1.35L5.41 20z\"/>\n",
              "  </svg>\n",
              "      </button>\n",
              "      \n",
              "  <style>\n",
              "    .colab-df-container {\n",
              "      display:flex;\n",
              "      flex-wrap:wrap;\n",
              "      gap: 12px;\n",
              "    }\n",
              "\n",
              "    .colab-df-convert {\n",
              "      background-color: #E8F0FE;\n",
              "      border: none;\n",
              "      border-radius: 50%;\n",
              "      cursor: pointer;\n",
              "      display: none;\n",
              "      fill: #1967D2;\n",
              "      height: 32px;\n",
              "      padding: 0 0 0 0;\n",
              "      width: 32px;\n",
              "    }\n",
              "\n",
              "    .colab-df-convert:hover {\n",
              "      background-color: #E2EBFA;\n",
              "      box-shadow: 0px 1px 2px rgba(60, 64, 67, 0.3), 0px 1px 3px 1px rgba(60, 64, 67, 0.15);\n",
              "      fill: #174EA6;\n",
              "    }\n",
              "\n",
              "    [theme=dark] .colab-df-convert {\n",
              "      background-color: #3B4455;\n",
              "      fill: #D2E3FC;\n",
              "    }\n",
              "\n",
              "    [theme=dark] .colab-df-convert:hover {\n",
              "      background-color: #434B5C;\n",
              "      box-shadow: 0px 1px 3px 1px rgba(0, 0, 0, 0.15);\n",
              "      filter: drop-shadow(0px 1px 2px rgba(0, 0, 0, 0.3));\n",
              "      fill: #FFFFFF;\n",
              "    }\n",
              "  </style>\n",
              "\n",
              "      <script>\n",
              "        const buttonEl =\n",
              "          document.querySelector('#df-b9be6311-82d3-44a1-8a87-b1901838a868 button.colab-df-convert');\n",
              "        buttonEl.style.display =\n",
              "          google.colab.kernel.accessAllowed ? 'block' : 'none';\n",
              "\n",
              "        async function convertToInteractive(key) {\n",
              "          const element = document.querySelector('#df-b9be6311-82d3-44a1-8a87-b1901838a868');\n",
              "          const dataTable =\n",
              "            await google.colab.kernel.invokeFunction('convertToInteractive',\n",
              "                                                     [key], {});\n",
              "          if (!dataTable) return;\n",
              "\n",
              "          const docLinkHtml = 'Like what you see? Visit the ' +\n",
              "            '<a target=\"_blank\" href=https://colab.research.google.com/notebooks/data_table.ipynb>data table notebook</a>'\n",
              "            + ' to learn more about interactive tables.';\n",
              "          element.innerHTML = '';\n",
              "          dataTable['output_type'] = 'display_data';\n",
              "          await google.colab.output.renderOutput(dataTable, element);\n",
              "          const docLink = document.createElement('div');\n",
              "          docLink.innerHTML = docLinkHtml;\n",
              "          element.appendChild(docLink);\n",
              "        }\n",
              "      </script>\n",
              "    </div>\n",
              "  </div>\n",
              "  "
            ]
          },
          "metadata": {},
          "execution_count": 7
        }
      ]
    },
    {
      "cell_type": "markdown",
      "source": [
        "### Criteria to induction of Nan values\n",
        "Because there are not nan values on dataset, it is needed to push them into it. At least 5% of data must be Nan values. So, the aproximation is this:\n",
        "\n",
        "\n",
        "*   A column (variable) will be selected according with an random number (e.g: if the number is 1, then the column selected will be the first of the variable columns; the ```'id'``` column will not be selected, only the columns having cartographic variables).\n",
        "*   With the column selected, the data to be converted to Nan will be choosen with a new random number indicanting its index.\n",
        "*   This will be repeated until reach the 5% of Nan values requested.\n",
        "\n",
        "\n",
        "\n"
      ],
      "metadata": {
        "id": "eg_C-1lHq4aj"
      }
    },
    {
      "cell_type": "markdown",
      "source": [
        "#### Start of the cycle to Nan induction"
      ],
      "metadata": {
        "id": "IxRhdLoKB3G0"
      }
    },
    {
      "cell_type": "code",
      "source": [
        "#threshold to work induction with\n",
        "threshold=int(len(df_train)*0.5)\n",
        "threshold"
      ],
      "metadata": {
        "colab": {
          "base_uri": "https://localhost:8080/"
        },
        "id": "qbgeRuCc_o-D",
        "outputId": "b693716a-3867-4011-ee51-d406d10a5414"
      },
      "execution_count": 8,
      "outputs": [
        {
          "output_type": "execute_result",
          "data": {
            "text/plain": [
              "7560"
            ]
          },
          "metadata": {},
          "execution_count": 8
        }
      ]
    },
    {
      "cell_type": "code",
      "source": [
        "#take all column labels to select from iterable with index being col_choosen\n",
        "list_cols=list(df_train.columns)\n",
        "#let see if it worked with the first 5 elements\n",
        "list_cols[:5]"
      ],
      "metadata": {
        "colab": {
          "base_uri": "https://localhost:8080/"
        },
        "id": "mPY3Om28BKIf",
        "outputId": "4df4613e-ef67-4f17-b7df-17539cf3f900"
      },
      "execution_count": 9,
      "outputs": [
        {
          "output_type": "execute_result",
          "data": {
            "text/plain": [
              "['Id', 'Elevation', 'Aspect', 'Slope', 'Horizontal_Distance_To_Hydrology']"
            ]
          },
          "metadata": {},
          "execution_count": 9
        }
      ]
    },
    {
      "cell_type": "code",
      "source": [
        "#count var to compare with threshold\n",
        "count_nan=0\n",
        "# cycle\n",
        "while count_nan<threshold:\n",
        "    #random for column and row selection\n",
        "    col_choosen=np.random.randint(1,df_train.shape[1])\n",
        "    row_choosen=np.random.randint(1,df_train.shape[0])\n",
        "    #localization of value in which to push nan value\n",
        "    if df_train.loc[row_choosen,list_cols[col_choosen]]!=np.NaN:\n",
        "        df_train.loc[row_choosen,list_cols[col_choosen]]=np.NaN\n",
        "        #add 1 to counter\n",
        "        count_nan+=1"
      ],
      "metadata": {
        "id": "j6TwnOM7BuRI"
      },
      "execution_count": 10,
      "outputs": []
    },
    {
      "cell_type": "code",
      "source": [
        "#check amount of nan values\n",
        "df_count_nan=df_train.isna().sum()\n",
        "#let see the amount of nan for the first 10 cols\n",
        "df_count_nan[df_count_nan!=0].iloc[:10]"
      ],
      "metadata": {
        "colab": {
          "base_uri": "https://localhost:8080/"
        },
        "id": "qLlEwFRxMprM",
        "outputId": "2cab4e12-dae6-4bc7-d806-876cde8eeaf8"
      },
      "execution_count": 11,
      "outputs": [
        {
          "output_type": "execute_result",
          "data": {
            "text/plain": [
              "Elevation                             151\n",
              "Aspect                                137\n",
              "Slope                                 138\n",
              "Horizontal_Distance_To_Hydrology      150\n",
              "Vertical_Distance_To_Hydrology        169\n",
              "Horizontal_Distance_To_Roadways       147\n",
              "Hillshade_9am                         136\n",
              "Hillshade_Noon                        147\n",
              "Hillshade_3pm                         141\n",
              "Horizontal_Distance_To_Fire_Points    147\n",
              "dtype: int64"
            ]
          },
          "metadata": {},
          "execution_count": 11
        }
      ]
    },
    {
      "cell_type": "markdown",
      "source": [
        "### Nan value imputation 1\n",
        "The criteria that will be used to replace the Nan values is the next\n",
        "1. Because the amount of Nan values is 5%, the imputation depents on what distribution follows the data and what is its type.\n",
        "#### Numerical data\n",
        "\n",
        "1.   If its distribution is normal, the replacing will be done with the **mean**.\n",
        "2.   If it is not normal, the replacing will be done with with the **median**.\n",
        "#### Categorical data\n",
        "\n",
        "\n",
        "1.   The replacing will be done with the **mode**.\n",
        "\n",
        "\n",
        "\n",
        "\n"
      ],
      "metadata": {
        "id": "UqmMVqndN39Q"
      }
    },
    {
      "cell_type": "markdown",
      "source": [
        "## Visual normality checks\n",
        "1. For every numeric column, plot qq chart and check visually."
      ],
      "metadata": {
        "id": "qHVMiPet-TLP"
      }
    },
    {
      "cell_type": "code",
      "source": [
        "#get numeric columns\n",
        "df_to_qq=df_train.loc[:,'Elevation':'Horizontal_Distance_To_Fire_Points'].copy()"
      ],
      "metadata": {
        "id": "N_29Os7zCcT4"
      },
      "execution_count": 12,
      "outputs": []
    },
    {
      "cell_type": "markdown",
      "source": [
        "### QQ plots"
      ],
      "metadata": {
        "id": "KEmUPxTdlqfU"
      }
    },
    {
      "cell_type": "code",
      "source": [
        "#replot of q-q with fillin nans with 'ffill' method\n",
        "list_qq_cols=[i for i in df_to_qq.columns]\n",
        "fig, axs = plt.subplots(5, 2,figsize=(12, 18))\n",
        "for i in range(len(list_qq_cols)):\n",
        "    axs = plt.subplot('52'+str(i))\n",
        "    x = np.array(df_to_qq[list_qq_cols[i]].fillna(method='ffill').values)\n",
        "    res = stats.probplot(x, plot=plt,rvalue=True)\n",
        "    axs.set_title(list_qq_cols[i]+' OvVsTheo quantiles[x]')\n",
        "    axs.set_xlabel('')\n",
        "\n",
        "plt.savefig('visual_normality_test_qq.png')\n",
        "plt.show()"
      ],
      "metadata": {
        "colab": {
          "base_uri": "https://localhost:8080/",
          "height": 1000
        },
        "id": "zpn_i907ig82",
        "outputId": "e8c5fa65-778c-4b1f-97b2-d51f136e79b8"
      },
      "execution_count": 43,
      "outputs": [
        {
          "output_type": "display_data",
          "data": {
            "text/plain": [
              "<Figure size 864x1296 with 10 Axes>"
            ],
            "image/png": "[encoded data removed]"
          },
          "metadata": {
            "needs_background": "light"
          }
        }
      ]
    },
    {
      "cell_type": "markdown",
      "source": [
        "## Conclusion\n",
        "For every column with a $R^2>0.9$, it can be concluded that the distribution is normal. For values below that, the distribution is not normal and the filling will be with the **median**"
      ],
      "metadata": {
        "id": "ozQoYkVA37pc"
      }
    },
    {
      "cell_type": "markdown",
      "source": [
        "### Replacing of Categorical values"
      ],
      "metadata": {
        "id": "7-sKD33jj29u"
      }
    },
    {
      "cell_type": "code",
      "source": [
        "# the replacing will beging with the 'n' values\n",
        "df_soil_type=df_train.loc[:,'Wilderness_Area1':'Soil_Type40']=='n'\n",
        "#replacing of 'y' for 1\n",
        "df_train.loc[:,'Wilderness_Area1':'Soil_Type40']=df_train.loc[:,'Wilderness_Area1':'Soil_Type40'].where(df_soil_type,1)\n",
        "#replacing of 'n' for 0\n",
        "df_soil_type=df_train.loc[:,'Wilderness_Area1':'Soil_Type40']==1\n",
        "df_train.loc[:,'Wilderness_Area1':'Soil_Type40']=df_train.loc[:,'Wilderness_Area1':'Soil_Type40'].where(df_soil_type,0)"
      ],
      "metadata": {
        "id": "j_EV1IaSj7nN"
      },
      "execution_count": 46,
      "outputs": []
    },
    {
      "cell_type": "code",
      "source": [
        "#lets check those columns\n",
        "df_train.loc[:,'Wilderness_Area1':'Soil_Type40']"
      ],
      "metadata": {
        "colab": {
          "base_uri": "https://localhost:8080/",
          "height": 488
        },
        "id": "11h0nGgHlM4X",
        "outputId": "238bd11e-a702-4a83-d48f-b8b3450db36c"
      },
      "execution_count": 47,
      "outputs": [
        {
          "output_type": "execute_result",
          "data": {
            "text/plain": [
              "      Wilderness_Area1 Wilderness_Area2 Wilderness_Area3 Wilderness_Area4  \\\n",
              "0                    1                0                0                0   \n",
              "1                    1                0                0                0   \n",
              "2                    1                0                0                0   \n",
              "3                    1                0                0                0   \n",
              "4                    1                0                0                0   \n",
              "...                ...              ...              ...              ...   \n",
              "15115                0                0                1                0   \n",
              "15116                0                0                1                0   \n",
              "15117                0                0                1                0   \n",
              "15118                0                0                1                0   \n",
              "15119                0                0                1                0   \n",
              "\n",
              "      Soil_Type1 Soil_Type2 Soil_Type3 Soil_Type4 Soil_Type5 Soil_Type6  ...  \\\n",
              "0              0          0          0          0          0          0  ...   \n",
              "1              0          0          0          0          0          0  ...   \n",
              "2              0          0          0          0          0          0  ...   \n",
              "3              0          0          0          0          0          0  ...   \n",
              "4              0          0          0          0          0          0  ...   \n",
              "...          ...        ...        ...        ...        ...        ...  ...   \n",
              "15115          0          0          0          1          0          0  ...   \n",
              "15116          0          0          0          1          0          0  ...   \n",
              "15117          1          0          0          1          0          0  ...   \n",
              "15118          0          0          0          1          0          0  ...   \n",
              "15119          0          1          0          0          0          0  ...   \n",
              "\n",
              "      Soil_Type31 Soil_Type32 Soil_Type33 Soil_Type34 Soil_Type35 Soil_Type36  \\\n",
              "0               0           0           0           0           0           0   \n",
              "1               0           0           0           0           0           0   \n",
              "2               0           0           0           0           0           0   \n",
              "3               0           0           0           0           0           0   \n",
              "4               0           0           1           0           0           0   \n",
              "...           ...         ...         ...         ...         ...         ...   \n",
              "15115           0           0           0           0           0           0   \n",
              "15116           1           0           0           0           0           0   \n",
              "15117           0           0           0           0           0           0   \n",
              "15118           0           0           0           0           0           0   \n",
              "15119           0           0           0           0           0           0   \n",
              "\n",
              "      Soil_Type37 Soil_Type38 Soil_Type39 Soil_Type40  \n",
              "0               0           0           0           0  \n",
              "1               0           0           0           0  \n",
              "2               0           0           0           0  \n",
              "3               0           0           0           0  \n",
              "4               0           0           0           0  \n",
              "...           ...         ...         ...         ...  \n",
              "15115           0           0           0           0  \n",
              "15116           0           0           0           0  \n",
              "15117           0           0           0           0  \n",
              "15118           0           0           0           0  \n",
              "15119           0           0           0           0  \n",
              "\n",
              "[15120 rows x 44 columns]"
            ],
            "text/html": [
              "\n",
              "  <div id=\"df-9214eac0-3230-4c57-b48b-ccf479da7804\">\n",
              "    <div class=\"colab-df-container\">\n",
              "      <div>\n",
              "<style scoped>\n",
              "    .dataframe tbody tr th:only-of-type {\n",
              "        vertical-align: middle;\n",
              "    }\n",
              "\n",
              "    .dataframe tbody tr th {\n",
              "        vertical-align: top;\n",
              "    }\n",
              "\n",
              "    .dataframe thead th {\n",
              "        text-align: right;\n",
              "    }\n",
              "</style>\n",
              "<table border=\"1\" class=\"dataframe\">\n",
              "  <thead>\n",
              "    <tr style=\"text-align: right;\">\n",
              "      <th></th>\n",
              "      <th>Wilderness_Area1</th>\n",
              "      <th>Wilderness_Area2</th>\n",
              "      <th>Wilderness_Area3</th>\n",
              "      <th>Wilderness_Area4</th>\n",
              "      <th>Soil_Type1</th>\n",
              "      <th>Soil_Type2</th>\n",
              "      <th>Soil_Type3</th>\n",
              "      <th>Soil_Type4</th>\n",
              "      <th>Soil_Type5</th>\n",
              "      <th>Soil_Type6</th>\n",
              "      <th>...</th>\n",
              "      <th>Soil_Type31</th>\n",
              "      <th>Soil_Type32</th>\n",
              "      <th>Soil_Type33</th>\n",
              "      <th>Soil_Type34</th>\n",
              "      <th>Soil_Type35</th>\n",
              "      <th>Soil_Type36</th>\n",
              "      <th>Soil_Type37</th>\n",
              "      <th>Soil_Type38</th>\n",
              "      <th>Soil_Type39</th>\n",
              "      <th>Soil_Type40</th>\n",
              "    </tr>\n",
              "  </thead>\n",
              "  <tbody>\n",
              "    <tr>\n",
              "      <th>0</th>\n",
              "      <td>1</td>\n",
              "      <td>0</td>\n",
              "      <td>0</td>\n",
              "      <td>0</td>\n",
              "      <td>0</td>\n",
              "      <td>0</td>\n",
              "      <td>0</td>\n",
              "      <td>0</td>\n",
              "      <td>0</td>\n",
              "      <td>0</td>\n",
              "      <td>...</td>\n",
              "      <td>0</td>\n",
              "      <td>0</td>\n",
              "      <td>0</td>\n",
              "      <td>0</td>\n",
              "      <td>0</td>\n",
              "      <td>0</td>\n",
              "      <td>0</td>\n",
              "      <td>0</td>\n",
              "      <td>0</td>\n",
              "      <td>0</td>\n",
              "    </tr>\n",
              "    <tr>\n",
              "      <th>1</th>\n",
              "      <td>1</td>\n",
              "      <td>0</td>\n",
              "      <td>0</td>\n",
              "      <td>0</td>\n",
              "      <td>0</td>\n",
              "      <td>0</td>\n",
              "      <td>0</td>\n",
              "      <td>0</td>\n",
              "      <td>0</td>\n",
              "      <td>0</td>\n",
              "      <td>...</td>\n",
              "      <td>0</td>\n",
              "      <td>0</td>\n",
              "      <td>0</td>\n",
              "      <td>0</td>\n",
              "      <td>0</td>\n",
              "      <td>0</td>\n",
              "      <td>0</td>\n",
              "      <td>0</td>\n",
              "      <td>0</td>\n",
              "      <td>0</td>\n",
              "    </tr>\n",
              "    <tr>\n",
              "      <th>2</th>\n",
              "      <td>1</td>\n",
              "      <td>0</td>\n",
              "      <td>0</td>\n",
              "      <td>0</td>\n",
              "      <td>0</td>\n",
              "      <td>0</td>\n",
              "      <td>0</td>\n",
              "      <td>0</td>\n",
              "      <td>0</td>\n",
              "      <td>0</td>\n",
              "      <td>...</td>\n",
              "      <td>0</td>\n",
              "      <td>0</td>\n",
              "      <td>0</td>\n",
              "      <td>0</td>\n",
              "      <td>0</td>\n",
              "      <td>0</td>\n",
              "      <td>0</td>\n",
              "      <td>0</td>\n",
              "      <td>0</td>\n",
              "      <td>0</td>\n",
              "    </tr>\n",
              "    <tr>\n",
              "      <th>3</th>\n",
              "      <td>1</td>\n",
              "      <td>0</td>\n",
              "      <td>0</td>\n",
              "      <td>0</td>\n",
              "      <td>0</td>\n",
              "      <td>0</td>\n",
              "      <td>0</td>\n",
              "      <td>0</td>\n",
              "      <td>0</td>\n",
              "      <td>0</td>\n",
              "      <td>...</td>\n",
              "      <td>0</td>\n",
              "      <td>0</td>\n",
              "      <td>0</td>\n",
              "      <td>0</td>\n",
              "      <td>0</td>\n",
              "      <td>0</td>\n",
              "      <td>0</td>\n",
              "      <td>0</td>\n",
              "      <td>0</td>\n",
              "      <td>0</td>\n",
              "    </tr>\n",
              "    <tr>\n",
              "      <th>4</th>\n",
              "      <td>1</td>\n",
              "      <td>0</td>\n",
              "      <td>0</td>\n",
              "      <td>0</td>\n",
              "      <td>0</td>\n",
              "      <td>0</td>\n",
              "      <td>0</td>\n",
              "      <td>0</td>\n",
              "      <td>0</td>\n",
              "      <td>0</td>\n",
              "      <td>...</td>\n",
              "      <td>0</td>\n",
              "      <td>0</td>\n",
              "      <td>1</td>\n",
              "      <td>0</td>\n",
              "      <td>0</td>\n",
              "      <td>0</td>\n",
              "      <td>0</td>\n",
              "      <td>0</td>\n",
              "      <td>0</td>\n",
              "      <td>0</td>\n",
              "    </tr>\n",
              "    <tr>\n",
              "      <th>...</th>\n",
              "      <td>...</td>\n",
              "      <td>...</td>\n",
              "      <td>...</td>\n",
              "      <td>...</td>\n",
              "      <td>...</td>\n",
              "      <td>...</td>\n",
              "      <td>...</td>\n",
              "      <td>...</td>\n",
              "      <td>...</td>\n",
              "      <td>...</td>\n",
              "      <td>...</td>\n",
              "      <td>...</td>\n",
              "      <td>...</td>\n",
              "      <td>...</td>\n",
              "      <td>...</td>\n",
              "      <td>...</td>\n",
              "      <td>...</td>\n",
              "      <td>...</td>\n",
              "      <td>...</td>\n",
              "      <td>...</td>\n",
              "      <td>...</td>\n",
              "    </tr>\n",
              "    <tr>\n",
              "      <th>15115</th>\n",
              "      <td>0</td>\n",
              "      <td>0</td>\n",
              "      <td>1</td>\n",
              "      <td>0</td>\n",
              "      <td>0</td>\n",
              "      <td>0</td>\n",
              "      <td>0</td>\n",
              "      <td>1</td>\n",
              "      <td>0</td>\n",
              "      <td>0</td>\n",
              "      <td>...</td>\n",
              "      <td>0</td>\n",
              "      <td>0</td>\n",
              "      <td>0</td>\n",
              "      <td>0</td>\n",
              "      <td>0</td>\n",
              "      <td>0</td>\n",
              "      <td>0</td>\n",
              "      <td>0</td>\n",
              "      <td>0</td>\n",
              "      <td>0</td>\n",
              "    </tr>\n",
              "    <tr>\n",
              "      <th>15116</th>\n",
              "      <td>0</td>\n",
              "      <td>0</td>\n",
              "      <td>1</td>\n",
              "      <td>0</td>\n",
              "      <td>0</td>\n",
              "      <td>0</td>\n",
              "      <td>0</td>\n",
              "      <td>1</td>\n",
              "      <td>0</td>\n",
              "      <td>0</td>\n",
              "      <td>...</td>\n",
              "      <td>1</td>\n",
              "      <td>0</td>\n",
              "      <td>0</td>\n",
              "      <td>0</td>\n",
              "      <td>0</td>\n",
              "      <td>0</td>\n",
              "      <td>0</td>\n",
              "      <td>0</td>\n",
              "      <td>0</td>\n",
              "      <td>0</td>\n",
              "    </tr>\n",
              "    <tr>\n",
              "      <th>15117</th>\n",
              "      <td>0</td>\n",
              "      <td>0</td>\n",
              "      <td>1</td>\n",
              "      <td>0</td>\n",
              "      <td>1</td>\n",
              "      <td>0</td>\n",
              "      <td>0</td>\n",
              "      <td>1</td>\n",
              "      <td>0</td>\n",
              "      <td>0</td>\n",
              "      <td>...</td>\n",
              "      <td>0</td>\n",
              "      <td>0</td>\n",
              "      <td>0</td>\n",
              "      <td>0</td>\n",
              "      <td>0</td>\n",
              "      <td>0</td>\n",
              "      <td>0</td>\n",
              "      <td>0</td>\n",
              "      <td>0</td>\n",
              "      <td>0</td>\n",
              "    </tr>\n",
              "    <tr>\n",
              "      <th>15118</th>\n",
              "      <td>0</td>\n",
              "      <td>0</td>\n",
              "      <td>1</td>\n",
              "      <td>0</td>\n",
              "      <td>0</td>\n",
              "      <td>0</td>\n",
              "      <td>0</td>\n",
              "      <td>1</td>\n",
              "      <td>0</td>\n",
              "      <td>0</td>\n",
              "      <td>...</td>\n",
              "      <td>0</td>\n",
              "      <td>0</td>\n",
              "      <td>0</td>\n",
              "      <td>0</td>\n",
              "      <td>0</td>\n",
              "      <td>0</td>\n",
              "      <td>0</td>\n",
              "      <td>0</td>\n",
              "      <td>0</td>\n",
              "      <td>0</td>\n",
              "    </tr>\n",
              "    <tr>\n",
              "      <th>15119</th>\n",
              "      <td>0</td>\n",
              "      <td>0</td>\n",
              "      <td>1</td>\n",
              "      <td>0</td>\n",
              "      <td>0</td>\n",
              "      <td>1</td>\n",
              "      <td>0</td>\n",
              "      <td>0</td>\n",
              "      <td>0</td>\n",
              "      <td>0</td>\n",
              "      <td>...</td>\n",
              "      <td>0</td>\n",
              "      <td>0</td>\n",
              "      <td>0</td>\n",
              "      <td>0</td>\n",
              "      <td>0</td>\n",
              "      <td>0</td>\n",
              "      <td>0</td>\n",
              "      <td>0</td>\n",
              "      <td>0</td>\n",
              "      <td>0</td>\n",
              "    </tr>\n",
              "  </tbody>\n",
              "</table>\n",
              "<p>15120 rows × 44 columns</p>\n",
              "</div>\n",
              "      <button class=\"colab-df-convert\" onclick=\"convertToInteractive('df-9214eac0-3230-4c57-b48b-ccf479da7804')\"\n",
              "              title=\"Convert this dataframe to an interactive table.\"\n",
              "              style=\"display:none;\">\n",
              "        \n",
              "  <svg xmlns=\"http://www.w3.org/2000/svg\" height=\"24px\"viewBox=\"0 0 24 24\"\n",
              "       width=\"24px\">\n",
              "    <path d=\"M0 0h24v24H0V0z\" fill=\"none\"/>\n",
              "    <path d=\"M18.56 5.44l.94 2.06.94-2.06 2.06-.94-2.06-.94-.94-2.06-.94 2.06-2.06.94zm-11 1L8.5 8.5l.94-2.06 2.06-.94-2.06-.94L8.5 2.5l-.94 2.06-2.06.94zm10 10l.94 2.06.94-2.06 2.06-.94-2.06-.94-.94-2.06-.94 2.06-2.06.94z\"/><path d=\"M17.41 7.96l-1.37-1.37c-.4-.4-.92-.59-1.43-.59-.52 0-1.04.2-1.43.59L10.3 9.45l-7.72 7.72c-.78.78-.78 2.05 0 2.83L4 21.41c.39.39.9.59 1.41.59.51 0 1.02-.2 1.41-.59l7.78-7.78 2.81-2.81c.8-.78.8-2.07 0-2.86zM5.41 20L4 18.59l7.72-7.72 1.47 1.35L5.41 20z\"/>\n",
              "  </svg>\n",
              "      </button>\n",
              "      \n",
              "  <style>\n",
              "    .colab-df-container {\n",
              "      display:flex;\n",
              "      flex-wrap:wrap;\n",
              "      gap: 12px;\n",
              "    }\n",
              "\n",
              "    .colab-df-convert {\n",
              "      background-color: #E8F0FE;\n",
              "      border: none;\n",
              "      border-radius: 50%;\n",
              "      cursor: pointer;\n",
              "      display: none;\n",
              "      fill: #1967D2;\n",
              "      height: 32px;\n",
              "      padding: 0 0 0 0;\n",
              "      width: 32px;\n",
              "    }\n",
              "\n",
              "    .colab-df-convert:hover {\n",
              "      background-color: #E2EBFA;\n",
              "      box-shadow: 0px 1px 2px rgba(60, 64, 67, 0.3), 0px 1px 3px 1px rgba(60, 64, 67, 0.15);\n",
              "      fill: #174EA6;\n",
              "    }\n",
              "\n",
              "    [theme=dark] .colab-df-convert {\n",
              "      background-color: #3B4455;\n",
              "      fill: #D2E3FC;\n",
              "    }\n",
              "\n",
              "    [theme=dark] .colab-df-convert:hover {\n",
              "      background-color: #434B5C;\n",
              "      box-shadow: 0px 1px 3px 1px rgba(0, 0, 0, 0.15);\n",
              "      filter: drop-shadow(0px 1px 2px rgba(0, 0, 0, 0.3));\n",
              "      fill: #FFFFFF;\n",
              "    }\n",
              "  </style>\n",
              "\n",
              "      <script>\n",
              "        const buttonEl =\n",
              "          document.querySelector('#df-9214eac0-3230-4c57-b48b-ccf479da7804 button.colab-df-convert');\n",
              "        buttonEl.style.display =\n",
              "          google.colab.kernel.accessAllowed ? 'block' : 'none';\n",
              "\n",
              "        async function convertToInteractive(key) {\n",
              "          const element = document.querySelector('#df-9214eac0-3230-4c57-b48b-ccf479da7804');\n",
              "          const dataTable =\n",
              "            await google.colab.kernel.invokeFunction('convertToInteractive',\n",
              "                                                     [key], {});\n",
              "          if (!dataTable) return;\n",
              "\n",
              "          const docLinkHtml = 'Like what you see? Visit the ' +\n",
              "            '<a target=\"_blank\" href=https://colab.research.google.com/notebooks/data_table.ipynb>data table notebook</a>'\n",
              "            + ' to learn more about interactive tables.';\n",
              "          element.innerHTML = '';\n",
              "          dataTable['output_type'] = 'display_data';\n",
              "          await google.colab.output.renderOutput(dataTable, element);\n",
              "          const docLink = document.createElement('div');\n",
              "          docLink.innerHTML = docLinkHtml;\n",
              "          element.appendChild(docLink);\n",
              "        }\n",
              "      </script>\n",
              "    </div>\n",
              "  </div>\n",
              "  "
            ]
          },
          "metadata": {},
          "execution_count": 47
        }
      ]
    },
    {
      "cell_type": "code",
      "source": [
        "# cols of train\n",
        "df_train.columns"
      ],
      "metadata": {
        "colab": {
          "base_uri": "https://localhost:8080/"
        },
        "id": "mXEB17thtf4D",
        "outputId": "6df4a6a6-e354-4c6e-a4cf-5b821c67daa5"
      },
      "execution_count": 48,
      "outputs": [
        {
          "output_type": "execute_result",
          "data": {
            "text/plain": [
              "Index(['Id', 'Elevation', 'Aspect', 'Slope',\n",
              "       'Horizontal_Distance_To_Hydrology', 'Vertical_Distance_To_Hydrology',\n",
              "       'Horizontal_Distance_To_Roadways', 'Hillshade_9am', 'Hillshade_Noon',\n",
              "       'Hillshade_3pm', 'Horizontal_Distance_To_Fire_Points',\n",
              "       'Wilderness_Area1', 'Wilderness_Area2', 'Wilderness_Area3',\n",
              "       'Wilderness_Area4', 'Soil_Type1', 'Soil_Type2', 'Soil_Type3',\n",
              "       'Soil_Type4', 'Soil_Type5', 'Soil_Type6', 'Soil_Type7', 'Soil_Type8',\n",
              "       'Soil_Type9', 'Soil_Type10', 'Soil_Type11', 'Soil_Type12',\n",
              "       'Soil_Type13', 'Soil_Type14', 'Soil_Type15', 'Soil_Type16',\n",
              "       'Soil_Type17', 'Soil_Type18', 'Soil_Type19', 'Soil_Type20',\n",
              "       'Soil_Type21', 'Soil_Type22', 'Soil_Type23', 'Soil_Type24',\n",
              "       'Soil_Type25', 'Soil_Type26', 'Soil_Type27', 'Soil_Type28',\n",
              "       'Soil_Type29', 'Soil_Type30', 'Soil_Type31', 'Soil_Type32',\n",
              "       'Soil_Type33', 'Soil_Type34', 'Soil_Type35', 'Soil_Type36',\n",
              "       'Soil_Type37', 'Soil_Type38', 'Soil_Type39', 'Soil_Type40',\n",
              "       'Cover_Type'],\n",
              "      dtype='object')"
            ]
          },
          "metadata": {},
          "execution_count": 48
        }
      ]
    },
    {
      "cell_type": "code",
      "source": [
        "# get the type values of every col\n",
        "df_train.dtypes"
      ],
      "metadata": {
        "colab": {
          "base_uri": "https://localhost:8080/"
        },
        "id": "cKa2xxVRu6FG",
        "outputId": "5c9387ee-b519-44d8-f717-b1110cb6e33d"
      },
      "execution_count": 49,
      "outputs": [
        {
          "output_type": "execute_result",
          "data": {
            "text/plain": [
              "Id                                      int64\n",
              "Elevation                             float64\n",
              "Aspect                                float64\n",
              "Slope                                 float64\n",
              "Horizontal_Distance_To_Hydrology      float64\n",
              "Vertical_Distance_To_Hydrology        float64\n",
              "Horizontal_Distance_To_Roadways       float64\n",
              "Hillshade_9am                         float64\n",
              "Hillshade_Noon                        float64\n",
              "Hillshade_3pm                         float64\n",
              "Horizontal_Distance_To_Fire_Points    float64\n",
              "Wilderness_Area1                       object\n",
              "Wilderness_Area2                       object\n",
              "Wilderness_Area3                       object\n",
              "Wilderness_Area4                       object\n",
              "Soil_Type1                             object\n",
              "Soil_Type2                             object\n",
              "Soil_Type3                             object\n",
              "Soil_Type4                             object\n",
              "Soil_Type5                             object\n",
              "Soil_Type6                             object\n",
              "Soil_Type7                             object\n",
              "Soil_Type8                             object\n",
              "Soil_Type9                             object\n",
              "Soil_Type10                            object\n",
              "Soil_Type11                            object\n",
              "Soil_Type12                            object\n",
              "Soil_Type13                            object\n",
              "Soil_Type14                            object\n",
              "Soil_Type15                            object\n",
              "Soil_Type16                            object\n",
              "Soil_Type17                            object\n",
              "Soil_Type18                            object\n",
              "Soil_Type19                            object\n",
              "Soil_Type20                            object\n",
              "Soil_Type21                            object\n",
              "Soil_Type22                            object\n",
              "Soil_Type23                            object\n",
              "Soil_Type24                            object\n",
              "Soil_Type25                            object\n",
              "Soil_Type26                            object\n",
              "Soil_Type27                            object\n",
              "Soil_Type28                            object\n",
              "Soil_Type29                            object\n",
              "Soil_Type30                            object\n",
              "Soil_Type31                            object\n",
              "Soil_Type32                            object\n",
              "Soil_Type33                            object\n",
              "Soil_Type34                            object\n",
              "Soil_Type35                            object\n",
              "Soil_Type36                            object\n",
              "Soil_Type37                            object\n",
              "Soil_Type38                            object\n",
              "Soil_Type39                            object\n",
              "Soil_Type40                            object\n",
              "Cover_Type                            float64\n",
              "dtype: object"
            ]
          },
          "metadata": {},
          "execution_count": 49
        }
      ]
    },
    {
      "cell_type": "markdown",
      "source": [
        "### Inspect numeric cols"
      ],
      "metadata": {
        "id": "OnIO9xxZviqk"
      }
    },
    {
      "cell_type": "code",
      "source": [
        "#because ._get_numeric_data().describe.T.iloc['Elevation':] rise an error working with dtype object(really strings), convert to best possible type\n",
        "df_train=df_train.convert_dtypes()\n",
        "df_train.dtypes"
      ],
      "metadata": {
        "colab": {
          "base_uri": "https://localhost:8080/"
        },
        "id": "zndUCoa7oMhW",
        "outputId": "b4aa5b8c-4b79-417e-feb3-3f8a49fd3228"
      },
      "execution_count": 50,
      "outputs": [
        {
          "output_type": "execute_result",
          "data": {
            "text/plain": [
              "Id                                    Int64\n",
              "Elevation                             Int64\n",
              "Aspect                                Int64\n",
              "Slope                                 Int64\n",
              "Horizontal_Distance_To_Hydrology      Int64\n",
              "Vertical_Distance_To_Hydrology        Int64\n",
              "Horizontal_Distance_To_Roadways       Int64\n",
              "Hillshade_9am                         Int64\n",
              "Hillshade_Noon                        Int64\n",
              "Hillshade_3pm                         Int64\n",
              "Horizontal_Distance_To_Fire_Points    Int64\n",
              "Wilderness_Area1                      Int64\n",
              "Wilderness_Area2                      Int64\n",
              "Wilderness_Area3                      Int64\n",
              "Wilderness_Area4                      Int64\n",
              "Soil_Type1                            Int64\n",
              "Soil_Type2                            Int64\n",
              "Soil_Type3                            Int64\n",
              "Soil_Type4                            Int64\n",
              "Soil_Type5                            Int64\n",
              "Soil_Type6                            Int64\n",
              "Soil_Type7                            Int64\n",
              "Soil_Type8                            Int64\n",
              "Soil_Type9                            Int64\n",
              "Soil_Type10                           Int64\n",
              "Soil_Type11                           Int64\n",
              "Soil_Type12                           Int64\n",
              "Soil_Type13                           Int64\n",
              "Soil_Type14                           Int64\n",
              "Soil_Type15                           Int64\n",
              "Soil_Type16                           Int64\n",
              "Soil_Type17                           Int64\n",
              "Soil_Type18                           Int64\n",
              "Soil_Type19                           Int64\n",
              "Soil_Type20                           Int64\n",
              "Soil_Type21                           Int64\n",
              "Soil_Type22                           Int64\n",
              "Soil_Type23                           Int64\n",
              "Soil_Type24                           Int64\n",
              "Soil_Type25                           Int64\n",
              "Soil_Type26                           Int64\n",
              "Soil_Type27                           Int64\n",
              "Soil_Type28                           Int64\n",
              "Soil_Type29                           Int64\n",
              "Soil_Type30                           Int64\n",
              "Soil_Type31                           Int64\n",
              "Soil_Type32                           Int64\n",
              "Soil_Type33                           Int64\n",
              "Soil_Type34                           Int64\n",
              "Soil_Type35                           Int64\n",
              "Soil_Type36                           Int64\n",
              "Soil_Type37                           Int64\n",
              "Soil_Type38                           Int64\n",
              "Soil_Type39                           Int64\n",
              "Soil_Type40                           Int64\n",
              "Cover_Type                            Int64\n",
              "dtype: object"
            ]
          },
          "metadata": {},
          "execution_count": 50
        }
      ]
    },
    {
      "cell_type": "code",
      "source": [
        "# head description of df_train with only numeric data--->not categorical\n",
        "df_train._get_numeric_data().describe().T.loc['Elevation':'Horizontal_Distance_To_Fire_Points',:]"
      ],
      "metadata": {
        "colab": {
          "base_uri": "https://localhost:8080/",
          "height": 363
        },
        "id": "PPdiYM7GvI_8",
        "outputId": "bbbc0c51-b2a0-46c7-b7a1-f75c17f4feaa"
      },
      "execution_count": 51,
      "outputs": [
        {
          "output_type": "execute_result",
          "data": {
            "text/plain": [
              "                                      count         mean          std     min  \\\n",
              "Elevation                           14969.0  2748.987307   417.777253  1863.0   \n",
              "Aspect                              14983.0   156.686778   110.107630     0.0   \n",
              "Slope                               14982.0    16.498064     8.447134     0.0   \n",
              "Horizontal_Distance_To_Hydrology    14970.0   227.113494   210.083884     0.0   \n",
              "Vertical_Distance_To_Hydrology      14951.0    51.082804    61.308165  -146.0   \n",
              "Horizontal_Distance_To_Roadways     14973.0  1714.336673  1324.493127     0.0   \n",
              "Hillshade_9am                       14984.0   212.710558    30.539999     0.0   \n",
              "Hillshade_Noon                      14973.0   218.979430    22.799056    99.0   \n",
              "Hillshade_3pm                       14979.0   135.063422    45.884193     0.0   \n",
              "Horizontal_Distance_To_Fire_Points  14973.0  1512.287584  1100.445355     0.0   \n",
              "\n",
              "                                       25%     50%     75%     max  \n",
              "Elevation                           2375.0  2752.0  3103.0  3849.0  \n",
              "Aspect                                65.0   126.0   260.0   360.0  \n",
              "Slope                                 10.0    15.0    22.0    52.0  \n",
              "Horizontal_Distance_To_Hydrology      67.0   180.0   328.5  1343.0  \n",
              "Vertical_Distance_To_Hydrology         5.0    32.0    79.0   554.0  \n",
              "Horizontal_Distance_To_Roadways      760.0  1316.0  2271.0  6890.0  \n",
              "Hillshade_9am                        196.0   220.0   235.0   254.0  \n",
              "Hillshade_Noon                       207.0   223.0   235.0   254.0  \n",
              "Hillshade_3pm                        106.0   138.0   167.0   248.0  \n",
              "Horizontal_Distance_To_Fire_Points   731.0  1256.0  1989.0  6993.0  "
            ],
            "text/html": [
              "\n",
              "  <div id=\"df-07ac3d59-c27b-4b31-8843-dae4b38d9cce\">\n",
              "    <div class=\"colab-df-container\">\n",
              "      <div>\n",
              "<style scoped>\n",
              "    .dataframe tbody tr th:only-of-type {\n",
              "        vertical-align: middle;\n",
              "    }\n",
              "\n",
              "    .dataframe tbody tr th {\n",
              "        vertical-align: top;\n",
              "    }\n",
              "\n",
              "    .dataframe thead th {\n",
              "        text-align: right;\n",
              "    }\n",
              "</style>\n",
              "<table border=\"1\" class=\"dataframe\">\n",
              "  <thead>\n",
              "    <tr style=\"text-align: right;\">\n",
              "      <th></th>\n",
              "      <th>count</th>\n",
              "      <th>mean</th>\n",
              "      <th>std</th>\n",
              "      <th>min</th>\n",
              "      <th>25%</th>\n",
              "      <th>50%</th>\n",
              "      <th>75%</th>\n",
              "      <th>max</th>\n",
              "    </tr>\n",
              "  </thead>\n",
              "  <tbody>\n",
              "    <tr>\n",
              "      <th>Elevation</th>\n",
              "      <td>14969.0</td>\n",
              "      <td>2748.987307</td>\n",
              "      <td>417.777253</td>\n",
              "      <td>1863.0</td>\n",
              "      <td>2375.0</td>\n",
              "      <td>2752.0</td>\n",
              "      <td>3103.0</td>\n",
              "      <td>3849.0</td>\n",
              "    </tr>\n",
              "    <tr>\n",
              "      <th>Aspect</th>\n",
              "      <td>14983.0</td>\n",
              "      <td>156.686778</td>\n",
              "      <td>110.107630</td>\n",
              "      <td>0.0</td>\n",
              "      <td>65.0</td>\n",
              "      <td>126.0</td>\n",
              "      <td>260.0</td>\n",
              "      <td>360.0</td>\n",
              "    </tr>\n",
              "    <tr>\n",
              "      <th>Slope</th>\n",
              "      <td>14982.0</td>\n",
              "      <td>16.498064</td>\n",
              "      <td>8.447134</td>\n",
              "      <td>0.0</td>\n",
              "      <td>10.0</td>\n",
              "      <td>15.0</td>\n",
              "      <td>22.0</td>\n",
              "      <td>52.0</td>\n",
              "    </tr>\n",
              "    <tr>\n",
              "      <th>Horizontal_Distance_To_Hydrology</th>\n",
              "      <td>14970.0</td>\n",
              "      <td>227.113494</td>\n",
              "      <td>210.083884</td>\n",
              "      <td>0.0</td>\n",
              "      <td>67.0</td>\n",
              "      <td>180.0</td>\n",
              "      <td>328.5</td>\n",
              "      <td>1343.0</td>\n",
              "    </tr>\n",
              "    <tr>\n",
              "      <th>Vertical_Distance_To_Hydrology</th>\n",
              "      <td>14951.0</td>\n",
              "      <td>51.082804</td>\n",
              "      <td>61.308165</td>\n",
              "      <td>-146.0</td>\n",
              "      <td>5.0</td>\n",
              "      <td>32.0</td>\n",
              "      <td>79.0</td>\n",
              "      <td>554.0</td>\n",
              "    </tr>\n",
              "    <tr>\n",
              "      <th>Horizontal_Distance_To_Roadways</th>\n",
              "      <td>14973.0</td>\n",
              "      <td>1714.336673</td>\n",
              "      <td>1324.493127</td>\n",
              "      <td>0.0</td>\n",
              "      <td>760.0</td>\n",
              "      <td>1316.0</td>\n",
              "      <td>2271.0</td>\n",
              "      <td>6890.0</td>\n",
              "    </tr>\n",
              "    <tr>\n",
              "      <th>Hillshade_9am</th>\n",
              "      <td>14984.0</td>\n",
              "      <td>212.710558</td>\n",
              "      <td>30.539999</td>\n",
              "      <td>0.0</td>\n",
              "      <td>196.0</td>\n",
              "      <td>220.0</td>\n",
              "      <td>235.0</td>\n",
              "      <td>254.0</td>\n",
              "    </tr>\n",
              "    <tr>\n",
              "      <th>Hillshade_Noon</th>\n",
              "      <td>14973.0</td>\n",
              "      <td>218.979430</td>\n",
              "      <td>22.799056</td>\n",
              "      <td>99.0</td>\n",
              "      <td>207.0</td>\n",
              "      <td>223.0</td>\n",
              "      <td>235.0</td>\n",
              "      <td>254.0</td>\n",
              "    </tr>\n",
              "    <tr>\n",
              "      <th>Hillshade_3pm</th>\n",
              "      <td>14979.0</td>\n",
              "      <td>135.063422</td>\n",
              "      <td>45.884193</td>\n",
              "      <td>0.0</td>\n",
              "      <td>106.0</td>\n",
              "      <td>138.0</td>\n",
              "      <td>167.0</td>\n",
              "      <td>248.0</td>\n",
              "    </tr>\n",
              "    <tr>\n",
              "      <th>Horizontal_Distance_To_Fire_Points</th>\n",
              "      <td>14973.0</td>\n",
              "      <td>1512.287584</td>\n",
              "      <td>1100.445355</td>\n",
              "      <td>0.0</td>\n",
              "      <td>731.0</td>\n",
              "      <td>1256.0</td>\n",
              "      <td>1989.0</td>\n",
              "      <td>6993.0</td>\n",
              "    </tr>\n",
              "  </tbody>\n",
              "</table>\n",
              "</div>\n",
              "      <button class=\"colab-df-convert\" onclick=\"convertToInteractive('df-07ac3d59-c27b-4b31-8843-dae4b38d9cce')\"\n",
              "              title=\"Convert this dataframe to an interactive table.\"\n",
              "              style=\"display:none;\">\n",
              "        \n",
              "  <svg xmlns=\"http://www.w3.org/2000/svg\" height=\"24px\"viewBox=\"0 0 24 24\"\n",
              "       width=\"24px\">\n",
              "    <path d=\"M0 0h24v24H0V0z\" fill=\"none\"/>\n",
              "    <path d=\"M18.56 5.44l.94 2.06.94-2.06 2.06-.94-2.06-.94-.94-2.06-.94 2.06-2.06.94zm-11 1L8.5 8.5l.94-2.06 2.06-.94-2.06-.94L8.5 2.5l-.94 2.06-2.06.94zm10 10l.94 2.06.94-2.06 2.06-.94-2.06-.94-.94-2.06-.94 2.06-2.06.94z\"/><path d=\"M17.41 7.96l-1.37-1.37c-.4-.4-.92-.59-1.43-.59-.52 0-1.04.2-1.43.59L10.3 9.45l-7.72 7.72c-.78.78-.78 2.05 0 2.83L4 21.41c.39.39.9.59 1.41.59.51 0 1.02-.2 1.41-.59l7.78-7.78 2.81-2.81c.8-.78.8-2.07 0-2.86zM5.41 20L4 18.59l7.72-7.72 1.47 1.35L5.41 20z\"/>\n",
              "  </svg>\n",
              "      </button>\n",
              "      \n",
              "  <style>\n",
              "    .colab-df-container {\n",
              "      display:flex;\n",
              "      flex-wrap:wrap;\n",
              "      gap: 12px;\n",
              "    }\n",
              "\n",
              "    .colab-df-convert {\n",
              "      background-color: #E8F0FE;\n",
              "      border: none;\n",
              "      border-radius: 50%;\n",
              "      cursor: pointer;\n",
              "      display: none;\n",
              "      fill: #1967D2;\n",
              "      height: 32px;\n",
              "      padding: 0 0 0 0;\n",
              "      width: 32px;\n",
              "    }\n",
              "\n",
              "    .colab-df-convert:hover {\n",
              "      background-color: #E2EBFA;\n",
              "      box-shadow: 0px 1px 2px rgba(60, 64, 67, 0.3), 0px 1px 3px 1px rgba(60, 64, 67, 0.15);\n",
              "      fill: #174EA6;\n",
              "    }\n",
              "\n",
              "    [theme=dark] .colab-df-convert {\n",
              "      background-color: #3B4455;\n",
              "      fill: #D2E3FC;\n",
              "    }\n",
              "\n",
              "    [theme=dark] .colab-df-convert:hover {\n",
              "      background-color: #434B5C;\n",
              "      box-shadow: 0px 1px 3px 1px rgba(0, 0, 0, 0.15);\n",
              "      filter: drop-shadow(0px 1px 2px rgba(0, 0, 0, 0.3));\n",
              "      fill: #FFFFFF;\n",
              "    }\n",
              "  </style>\n",
              "\n",
              "      <script>\n",
              "        const buttonEl =\n",
              "          document.querySelector('#df-07ac3d59-c27b-4b31-8843-dae4b38d9cce button.colab-df-convert');\n",
              "        buttonEl.style.display =\n",
              "          google.colab.kernel.accessAllowed ? 'block' : 'none';\n",
              "\n",
              "        async function convertToInteractive(key) {\n",
              "          const element = document.querySelector('#df-07ac3d59-c27b-4b31-8843-dae4b38d9cce');\n",
              "          const dataTable =\n",
              "            await google.colab.kernel.invokeFunction('convertToInteractive',\n",
              "                                                     [key], {});\n",
              "          if (!dataTable) return;\n",
              "\n",
              "          const docLinkHtml = 'Like what you see? Visit the ' +\n",
              "            '<a target=\"_blank\" href=https://colab.research.google.com/notebooks/data_table.ipynb>data table notebook</a>'\n",
              "            + ' to learn more about interactive tables.';\n",
              "          element.innerHTML = '';\n",
              "          dataTable['output_type'] = 'display_data';\n",
              "          await google.colab.output.renderOutput(dataTable, element);\n",
              "          const docLink = document.createElement('div');\n",
              "          docLink.innerHTML = docLinkHtml;\n",
              "          element.appendChild(docLink);\n",
              "        }\n",
              "      </script>\n",
              "    </div>\n",
              "  </div>\n",
              "  "
            ]
          },
          "metadata": {},
          "execution_count": 51
        }
      ]
    },
    {
      "cell_type": "markdown",
      "source": [
        "## Inspect target variable"
      ],
      "metadata": {
        "id": "EYPBScP6vTgl"
      }
    },
    {
      "cell_type": "code",
      "source": [
        "#plot target column (categorical)\n",
        "sns.displot(df_train['Cover_Type']).savefig('distribution_cover_type.jpg');"
      ],
      "metadata": {
        "colab": {
          "base_uri": "https://localhost:8080/",
          "height": 369
        },
        "id": "DaZ5nHZJt3ra",
        "outputId": "f6c8a617-92b8-4dbb-be1e-5224d69e65f2"
      },
      "execution_count": 52,
      "outputs": [
        {
          "output_type": "display_data",
          "data": {
            "text/plain": [
              "<Figure size 360x360 with 1 Axes>"
            ],
            "image/png": "[encoded data removed]"
          },
          "metadata": {
            "needs_background": "light"
          }
        }
      ]
    },
    {
      "cell_type": "markdown",
      "source": [
        "### Feature selection\n",
        "Several methods will be applied, in order to get the best combination of features to train the model.\n",
        "#### Filter methods: pre-processing step\n",
        "We will begin with one of the filter methods: **Correlation coefficient or Pearson's correlation**"
      ],
      "metadata": {
        "id": "6mV9Kt-PzGlH"
      }
    },
    {
      "cell_type": "markdown",
      "source": [
        "#### 1. Correlation matrix"
      ],
      "metadata": {
        "id": "jjn0IigJqgpN"
      }
    },
    {
      "cell_type": "code",
      "source": [
        "#correlation matrix\n",
        "corrmat = df_train.corr().loc['Elevation':,'Elevation':]\n",
        "f, ax = plt.subplots(figsize=(12, 12))\n",
        "sns.heatmap(corrmat, vmax=.8, square=True);\n",
        "#save heatmap as .png\n",
        "f.savefig('forest_cover_corrmat_heatmap.png')"
      ],
      "metadata": {
        "colab": {
          "base_uri": "https://localhost:8080/",
          "height": 793
        },
        "id": "CtmiIxLizF-e",
        "outputId": "b3e9c22c-7d30-4d9e-dd89-88d5eb8efca1"
      },
      "execution_count": 53,
      "outputs": [
        {
          "output_type": "display_data",
          "data": {
            "text/plain": [
              "<Figure size 864x864 with 2 Axes>"
            ],
            "image/png": "[encoded data removed]"
          },
          "metadata": {
            "needs_background": "light"
          }
        }
      ]
    },
    {
      "cell_type": "code",
      "source": [
        "#correlation matrix with numeric variables\n",
        "list_cols_numeric=list(df_train.corr().loc[ 'Elevation':'Horizontal_Distance_To_Fire_Points','Elevation':'Horizontal_Distance_To_Fire_Points'].columns)\n",
        "list_index_numeric=list(df_train.corr().loc[ 'Elevation':'Horizontal_Distance_To_Fire_Points','Elevation':'Horizontal_Distance_To_Fire_Points'].index)\n",
        "list_cols_numeric.append('Cover_Type')\n",
        "list_index_numeric.append('Cover_Type')"
      ],
      "metadata": {
        "id": "Ue304_F4gY7Q"
      },
      "execution_count": 54,
      "outputs": []
    },
    {
      "cell_type": "code",
      "source": [
        "corrmat_numeric=corrmat.loc[list_index_numeric,list_cols_numeric]\n",
        "f, ax = plt.subplots(figsize=(5, 5))\n",
        "sns.heatmap(corrmat_numeric, vmax=.8, square=True);\n",
        "#save heatmap as .png\n",
        "f.savefig('forest_cover_corrmat_numeric_heatmap.png')"
      ],
      "metadata": {
        "colab": {
          "base_uri": "https://localhost:8080/",
          "height": 462
        },
        "id": "WkoxLfFhiTHX",
        "outputId": "96f21b0b-b756-4408-a01a-8b2dcc3ccef1"
      },
      "execution_count": 55,
      "outputs": [
        {
          "output_type": "display_data",
          "data": {
            "text/plain": [
              "<Figure size 360x360 with 2 Axes>"
            ],
            "image/png": "[encoded data removed]"
          },
          "metadata": {
            "needs_background": "light"
          }
        }
      ]
    },
    {
      "cell_type": "code",
      "source": [
        "#correlation matrix with categorical variables\n",
        "list_cols_categorical=list(df_train.corr().loc[ 'Wilderness_Area1':'Soil_Type40','Wilderness_Area1':'Soil_Type40'].columns)\n",
        "list_index_categorical=list(df_train.corr().loc[ 'Wilderness_Area1':'Soil_Type40','Wilderness_Area1':'Soil_Type40'].index)\n",
        "list_cols_categorical.append('Cover_Type')\n",
        "list_index_categorical.append('Cover_Type')"
      ],
      "metadata": {
        "id": "tsjyTVrKlP0H"
      },
      "execution_count": 56,
      "outputs": []
    },
    {
      "cell_type": "code",
      "source": [
        "corrmat_categorical=corrmat.loc[list_index_categorical,list_cols_categorical]\n",
        "f, ax = plt.subplots(figsize=(7, 7))\n",
        "sns.heatmap(corrmat_categorical, vmax=.8, square=True);\n",
        "#save heatmap as .png\n",
        "f.savefig('forest_cover_corrmat_categorical_heatmap.png')"
      ],
      "metadata": {
        "colab": {
          "base_uri": "https://localhost:8080/",
          "height": 478
        },
        "id": "lpmyD9Ial9EI",
        "outputId": "21bde6ee-28c2-45e9-85cd-7d629e3c894b"
      },
      "execution_count": 57,
      "outputs": [
        {
          "output_type": "display_data",
          "data": {
            "text/plain": [
              "<Figure size 504x504 with 2 Axes>"
            ],
            "image/png": "[encoded data removed]"
          },
          "metadata": {
            "needs_background": "light"
          }
        }
      ]
    },
    {
      "cell_type": "code",
      "source": [
        "# get cols with correlation greater than .1 except 'Cover_Type'\n",
        "most_corr_cols=corrmat['Cover_Type'][corrmat['Cover_Type']>.1]\n",
        "most_corr_cols"
      ],
      "metadata": {
        "colab": {
          "base_uri": "https://localhost:8080/"
        },
        "id": "a8PLIdmOzhDW",
        "outputId": "e52a0e90-590e-4a9d-ac21-dce7767f682f"
      },
      "execution_count": 58,
      "outputs": [
        {
          "output_type": "execute_result",
          "data": {
            "text/plain": [
              "Wilderness_Area3    0.120221\n",
              "Soil_Type10         0.125688\n",
              "Soil_Type38         0.232285\n",
              "Soil_Type39         0.212556\n",
              "Soil_Type40         0.180346\n",
              "Cover_Type          1.000000\n",
              "Name: Cover_Type, dtype: float64"
            ]
          },
          "metadata": {},
          "execution_count": 58
        }
      ]
    },
    {
      "cell_type": "code",
      "source": [
        "#lets see the maximum correlation\n",
        "corrmat['Cover_Type'][:'Soil_Type40'].max()"
      ],
      "metadata": {
        "colab": {
          "base_uri": "https://localhost:8080/"
        },
        "id": "k2tsRqTxptXw",
        "outputId": "63062d7b-6e97-42c9-8b26-bbc1820ac4ad"
      },
      "execution_count": 59,
      "outputs": [
        {
          "output_type": "execute_result",
          "data": {
            "text/plain": [
              "0.23228481504328988"
            ]
          },
          "metadata": {},
          "execution_count": 59
        }
      ]
    },
    {
      "cell_type": "markdown",
      "source": [
        "#### Correlation conclusion\n",
        "Because the maximum correlation is that low, the relation between the target value ```'Cover_Type'``` and the other variables is not **linear** and it is needed to stablish **non-linear** relations.\n",
        "##### Other feature selection techniques\n",
        "In order to find those variables and their relation with ```'Cover_Type'```, first ```feature importance``` will be applied with the help of the ```sklearn``` module.\n",
        "\n"
      ],
      "metadata": {
        "id": "ZMv0a8mL4tEu"
      }
    }
  ]
}